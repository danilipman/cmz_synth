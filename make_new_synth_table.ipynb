{
 "cells": [
  {
   "cell_type": "code",
   "execution_count": 1,
   "id": "b987d2f7",
   "metadata": {},
   "outputs": [],
   "source": [
    "import os\n",
    "import numpy as np\n",
    "import pandas as pd\n",
    "from astropy.io import fits\n",
    "from astropy.wcs import WCS\n",
    "from astropy.table import Table\n",
    "from numpy import linspace, array, logspace, sin, cos, pi, arange, sqrt, arctan2, arccos\n",
    "\n",
    "\n",
    "import astropy.io.fits as pyfits\n",
    "\n"
   ]
  },
  {
   "cell_type": "code",
   "execution_count": 2,
   "id": "5e08cdf6",
   "metadata": {},
   "outputs": [],
   "source": [
    "#Grab the existing table columns we want \n",
    "cat = Table.read('../3D_CMZ/LBV_plots_stuff/CMZ_cloud_catalogue_data.tex')\n",
    "absorp_tab = Table.read('../3D_CMZ/LBV_plots_stuff/absorption_table_merged.tex')\n",
    "\n",
    "cat_index = cat['index']\n",
    "cloud_list = cat['cloud_name']\n",
    "l = cat['l']\n",
    "b = cat['b']\n",
    "v = cat['v']\n",
    "sigma = cat['sigma']\n",
    "rad = cat['rad']\n",
    "NF_decision = cat['NF_decision']\n",
    "lb_pixel_mask = cat['lb_pixel_mask']\n",
    "\n",
    "corr_coeff = cat['r_p_max']\n",
    "flux_diff = cat['flux_diff_max']\n",
    "flux_ratio = cat['flux_ratio_max']\n",
    "\n",
    "absorp_value = absorp_tab['fraction_value_peak_mask']\n",
    "absorp_index = absorp_tab['leaf_id']"
   ]
  },
  {
   "cell_type": "code",
   "execution_count": 3,
   "id": "2f6e4ed8",
   "metadata": {},
   "outputs": [
    {
     "data": {
      "text/html": [
       "<div><i>Table length=47</i>\n",
       "<table id=\"table140586093696432\" class=\"table-striped table-bordered table-condensed\">\n",
       "<thead><tr><th>index</th><th>cloud_name</th><th>l</th><th>b</th><th>v</th><th>sigma</th><th>rad</th><th>absorp</th><th>r_p_mom0</th><th>r_s_mom0</th><th>r_p_max</th><th>r_s_max</th><th>flux_diff_mom0</th><th>flux_ratio_mom0</th><th>I_cloud_max</th><th>I_model_max</th><th>flux_diff_max</th><th>flux_ratio_max</th><th>ext_frac_max</th><th>lb_pixel_mask</th><th>NF_decision</th><th>min_flux_max</th></tr></thead>\n",
       "<thead><tr><th>str3</th><th>str14</th><th>float64</th><th>float64</th><th>int64</th><th>int64</th><th>float64</th><th>int64</th><th>float64</th><th>float64</th><th>float64</th><th>float64</th><th>float64</th><th>float64</th><th>float64</th><th>float64</th><th>float64</th><th>float64</th><th>float64</th><th>int64</th><th>str3</th><th>float64</th></tr></thead>\n",
       "<tr><td>1</td><td>G359.475-0.044</td><td>-0.525</td><td>-0.044</td><td>-102</td><td>6</td><td>4.3</td><td>3</td><td>0.261</td><td>0.444</td><td>0.261</td><td>0.444</td><td>31.669</td><td>0.506</td><td>212.667</td><td>317.106</td><td>31.669</td><td>0.506</td><td>0.992</td><td>1</td><td>LN</td><td>82.971</td></tr>\n",
       "<tr><td>2</td><td>G359.508-0.135</td><td>-0.492</td><td>-0.135</td><td>-56</td><td>9</td><td>8.7</td><td>3</td><td>0.384</td><td>0.397</td><td>0.384</td><td>0.397</td><td>-20.608</td><td>0.623</td><td>224.209</td><td>276.371</td><td>-20.608</td><td>0.623</td><td>0.815</td><td>1</td><td>N</td><td>117.934</td></tr>\n",
       "<tr><td>3</td><td>G359.561-0.001</td><td>-0.439</td><td>-0.001</td><td>-90</td><td>8</td><td>2.7</td><td>0</td><td>0.222</td><td>0.325</td><td>0.222</td><td>0.325</td><td>-6.674</td><td>0.551</td><td>197.054</td><td>263.15</td><td>-6.674</td><td>0.551</td><td>0.997</td><td>1</td><td>U</td><td>106.365</td></tr>\n",
       "<tr><td>4a</td><td>G359.595-0.223</td><td>-0.405</td><td>-0.223</td><td>-27</td><td>13</td><td>4.6</td><td>3</td><td>0.468</td><td>0.257</td><td>0.433</td><td>0.254</td><td>-27.454</td><td>0.569</td><td>180.619</td><td>232.561</td><td>-26.881</td><td>0.567</td><td>0.947</td><td>1</td><td>N</td><td>100.903</td></tr>\n",
       "<tr><td>4b</td><td>G359.595-0.223</td><td>-0.405</td><td>-0.223</td><td>-20</td><td>8</td><td>4.6</td><td>3</td><td>0.316</td><td>0.329</td><td>0.262</td><td>0.101</td><td>-10.883</td><td>0.517</td><td>178.699</td><td>234.446</td><td>-25.555</td><td>0.559</td><td>0.932</td><td>0</td><td>LN</td><td>100.903</td></tr>\n",
       "<tr><td>5</td><td>G359.608+0.018</td><td>-0.392</td><td>0.018</td><td>-78</td><td>5</td><td>2.0</td><td>1</td><td>0.183</td><td>0.262</td><td>0.183</td><td>0.262</td><td>-26.81</td><td>0.575</td><td>185.012</td><td>230.972</td><td>-26.81</td><td>0.575</td><td>0.997</td><td>1</td><td>LN</td><td>123.728</td></tr>\n",
       "<tr><td>6a</td><td>G359.688-0.132</td><td>-0.312</td><td>-0.132</td><td>-29</td><td>5</td><td>5.6</td><td>0</td><td>0.655</td><td>0.694</td><td>0.621</td><td>0.621</td><td>-1.841</td><td>0.565</td><td>209.379</td><td>285.681</td><td>0.229</td><td>0.56</td><td>0.995</td><td>0</td><td>LN</td><td>153.898</td></tr>\n",
       "<tr><td>6b</td><td>G359.688-0.132</td><td>-0.312</td><td>-0.132</td><td>-21</td><td>12</td><td>5.6</td><td>0</td><td>0.301</td><td>0.282</td><td>0.281</td><td>0.236</td><td>-8.637</td><td>0.579</td><td>202.07</td><td>259.951</td><td>-9.201</td><td>0.576</td><td>0.993</td><td>1</td><td>U</td><td>151.445</td></tr>\n",
       "<tr><td>7a</td><td>G359.701+0.032</td><td>-0.299</td><td>0.032</td><td>-73</td><td>11</td><td>2.4</td><td>1</td><td>-0.53</td><td>-0.417</td><td>-0.535</td><td>-0.404</td><td>-45.38</td><td>0.658</td><td>205.206</td><td>233.126</td><td>-44.223</td><td>0.655</td><td>0.776</td><td>1</td><td>LN</td><td>154.551</td></tr>\n",
       "<tr><td>7b</td><td>G359.701+0.032</td><td>-0.299</td><td>0.032</td><td>-37</td><td>5</td><td>2.4</td><td>1</td><td>nan</td><td>nan</td><td>-0.62</td><td>-0.567</td><td>-58.777</td><td>0.746</td><td>213.061</td><td>255.086</td><td>-39.161</td><td>0.648</td><td>0.783</td><td>0</td><td>U</td><td>155.592</td></tr>\n",
       "<tr><td>8a</td><td>G359.865+0.023</td><td>-0.135</td><td>0.023</td><td>-54</td><td>9</td><td>2.0</td><td>2</td><td>-0.107</td><td>-0.21</td><td>-0.049</td><td>-0.29</td><td>-67.463</td><td>0.82</td><td>312.12</td><td>325.378</td><td>-61.153</td><td>0.802</td><td>0.585</td><td>1</td><td>F</td><td>197.792</td></tr>\n",
       "<tr><td>8b</td><td>G359.865+0.023</td><td>-0.135</td><td>0.023</td><td>-15</td><td>15</td><td>2.0</td><td>2</td><td>-1.0</td><td>-1.0</td><td>nan</td><td>nan</td><td>-105.031</td><td>0.937</td><td>336.889</td><td>305.122</td><td>-104.092</td><td>0.933</td><td>0.16</td><td>0</td><td>F</td><td>233.664</td></tr>\n",
       "<tr><td>8c</td><td>G359.865+0.023</td><td>-0.135</td><td>0.023</td><td>62</td><td>6</td><td>2.0</td><td>2</td><td>-0.769</td><td>-0.86</td><td>-0.643</td><td>-0.613</td><td>-104.665</td><td>0.935</td><td>342.501</td><td>310.059</td><td>-104.551</td><td>0.934</td><td>0.213</td><td>0</td><td>F</td><td>197.792</td></tr>\n",
       "<tr><td>9</td><td>G359.88-0.081</td><td>-0.12</td><td>-0.081</td><td>15</td><td>12</td><td>5.0</td><td>1</td><td>0.6</td><td>0.588</td><td>0.6</td><td>0.588</td><td>47.584</td><td>0.454</td><td>195.59</td><td>315.944</td><td>47.584</td><td>0.454</td><td>0.996</td><td>1</td><td>LN</td><td>126.201</td></tr>\n",
       "<tr><td>10</td><td>G359.979-0.071</td><td>-0.021</td><td>-0.071</td><td>48</td><td>11</td><td>2.7</td><td>1</td><td>0.264</td><td>0.265</td><td>0.264</td><td>0.265</td><td>91.011</td><td>0.549</td><td>314.437</td><td>478.218</td><td>91.011</td><td>0.549</td><td>0.918</td><td>1</td><td>LN</td><td>161.22</td></tr>\n",
       "<tr><td>...</td><td>...</td><td>...</td><td>...</td><td>...</td><td>...</td><td>...</td><td>...</td><td>...</td><td>...</td><td>...</td><td>...</td><td>...</td><td>...</td><td>...</td><td>...</td><td>...</td><td>...</td><td>...</td><td>...</td><td>...</td><td>...</td></tr>\n",
       "<tr><td>22</td><td>G0.413+0.048</td><td>0.413</td><td>0.048</td><td>19</td><td>11</td><td>2.9</td><td>1</td><td>0.838</td><td>0.82</td><td>0.838</td><td>0.82</td><td>3.323</td><td>0.326</td><td>114.224</td><td>190.317</td><td>3.323</td><td>0.326</td><td>1.0</td><td>1</td><td>N</td><td>59.849</td></tr>\n",
       "<tr><td>23</td><td>G0.488+0.008</td><td>0.488</td><td>0.008</td><td>28</td><td>11</td><td>4.1</td><td>1</td><td>0.645</td><td>0.617</td><td>0.645</td><td>0.617</td><td>13.529</td><td>0.299</td><td>111.192</td><td>197.491</td><td>13.529</td><td>0.299</td><td>0.999</td><td>1</td><td>N</td><td>49.44</td></tr>\n",
       "<tr><td>24</td><td>G0.645+0.03</td><td>0.645</td><td>0.03</td><td>53</td><td>12</td><td>1.4</td><td>2</td><td>0.615</td><td>0.605</td><td>0.615</td><td>0.605</td><td>-44.921</td><td>0.193</td><td>71.228</td><td>99.077</td><td>-44.921</td><td>0.193</td><td>1.0</td><td>1</td><td>N</td><td>45.608</td></tr>\n",
       "<tr><td>25</td><td>G0.666-0.028</td><td>0.666</td><td>-0.028</td><td>62</td><td>12</td><td>5.8</td><td>1</td><td>-0.332</td><td>-0.198</td><td>-0.332</td><td>-0.198</td><td>-25.644</td><td>0.181</td><td>74.039</td><td>121.164</td><td>-25.644</td><td>0.181</td><td>0.933</td><td>1</td><td>U</td><td>38.643</td></tr>\n",
       "<tr><td>26a</td><td>G0.716-0.09</td><td>0.716</td><td>-0.09</td><td>28</td><td>15</td><td>5.7</td><td>3</td><td>0.336</td><td>0.355</td><td>0.316</td><td>0.319</td><td>-49.976</td><td>0.256</td><td>78.144</td><td>106.837</td><td>-48.387</td><td>0.256</td><td>0.953</td><td>1</td><td>LN</td><td>45.35</td></tr>\n",
       "<tr><td>26b</td><td>G0.716-0.09</td><td>0.716</td><td>-0.09</td><td>58</td><td>11</td><td>5.7</td><td>3</td><td>0.387</td><td>0.386</td><td>0.425</td><td>0.396</td><td>-52.867</td><td>0.228</td><td>73.849</td><td>93.39</td><td>-52.731</td><td>0.23</td><td>0.985</td><td>0</td><td>LN</td><td>42.91</td></tr>\n",
       "<tr><td>27</td><td>G0.816-0.185</td><td>0.816</td><td>-0.185</td><td>39</td><td>15</td><td>6.4</td><td>3</td><td>0.098</td><td>0.046</td><td>0.098</td><td>0.046</td><td>-64.389</td><td>0.196</td><td>66.862</td><td>75.244</td><td>-64.389</td><td>0.196</td><td>0.929</td><td>1</td><td>nan</td><td>41.467</td></tr>\n",
       "<tr><td>28a</td><td>G0.888-0.044</td><td>0.888</td><td>-0.044</td><td>14</td><td>11</td><td>6.8</td><td>3</td><td>nan</td><td>nan</td><td>-0.938</td><td>-0.543</td><td>nan</td><td>nan</td><td>76.412</td><td>87.104</td><td>-62.202</td><td>0.279</td><td>0.994</td><td>0</td><td>nan</td><td>50.842</td></tr>\n",
       "<tr><td>28b</td><td>G0.888-0.044</td><td>0.888</td><td>-0.044</td><td>26</td><td>30</td><td>6.8</td><td>3</td><td>0.03</td><td>-0.15</td><td>-0.938</td><td>-0.543</td><td>-59.748</td><td>0.262</td><td>76.412</td><td>87.104</td><td>-62.202</td><td>0.279</td><td>0.994</td><td>0</td><td>nan</td><td>50.842</td></tr>\n",
       "<tr><td>28c</td><td>G0.888-0.044</td><td>0.888</td><td>-0.044</td><td>84</td><td>8</td><td>6.8</td><td>3</td><td>0.072</td><td>0.102</td><td>0.044</td><td>0.041</td><td>-61.263</td><td>0.238</td><td>72.609</td><td>84.803</td><td>-61.107</td><td>0.243</td><td>0.984</td><td>1</td><td>nan</td><td>44.973</td></tr>\n",
       "<tr><td>29a</td><td>G1.075-0.049</td><td>1.075</td><td>-0.049</td><td>74</td><td>6</td><td>8.5</td><td>3</td><td>nan</td><td>nan</td><td>-0.232</td><td>-0.26</td><td>nan</td><td>nan</td><td>144.496</td><td>105.386</td><td>-111.218</td><td>0.872</td><td>0.142</td><td>0</td><td>nan</td><td>61.725</td></tr>\n",
       "<tr><td>29b</td><td>G1.075-0.049</td><td>1.075</td><td>-0.049</td><td>85</td><td>16</td><td>8.5</td><td>3</td><td>0.006</td><td>0.051</td><td>-0.012</td><td>0.032</td><td>-63.506</td><td>0.328</td><td>84.019</td><td>93.974</td><td>-63.43</td><td>0.327</td><td>0.797</td><td>1</td><td>nan</td><td>40.377</td></tr>\n",
       "<tr><td>30a</td><td>G1.601+0.012</td><td>1.601</td><td>0.012</td><td>48</td><td>5</td><td>3.8</td><td>3</td><td>nan</td><td>nan</td><td>0.336</td><td>0.371</td><td>nan</td><td>nan</td><td>51.508</td><td>59.085</td><td>-65.283</td><td>-0.01</td><td>0.995</td><td>1</td><td>nan</td><td>45.475</td></tr>\n",
       "<tr><td>30b</td><td>G1.601+0.012</td><td>1.601</td><td>0.012</td><td>58</td><td>11</td><td>3.8</td><td>3</td><td>0.311</td><td>0.363</td><td>0.146</td><td>0.348</td><td>-65.564</td><td>-0.002</td><td>52.864</td><td>59.987</td><td>-66.332</td><td>0.013</td><td>0.978</td><td>0</td><td>nan</td><td>46.401</td></tr>\n",
       "<tr><td>31</td><td>G1.652-0.052</td><td>1.652</td><td>-0.052</td><td>50</td><td>6</td><td>3.7</td><td>3</td><td>0.937</td><td>0.883</td><td>0.937</td><td>0.883</td><td>-61.683</td><td>-0.056</td><td>48.751</td><td>59.838</td><td>-61.683</td><td>-0.056</td><td>0.985</td><td>1</td><td>nan</td><td>38.012</td></tr>\n",
       "</table></div>"
      ],
      "text/plain": [
       "<Table length=47>\n",
       "index   cloud_name      l       b      v   sigma   rad   absorp r_p_mom0 ... I_cloud_max I_model_max flux_diff_max flux_ratio_max ext_frac_max lb_pixel_mask NF_decision min_flux_max\n",
       " str3     str14      float64 float64 int64 int64 float64 int64  float64  ...   float64     float64      float64       float64       float64        int64         str3      float64   \n",
       "----- -------------- ------- ------- ----- ----- ------- ------ -------- ... ----------- ----------- ------------- -------------- ------------ ------------- ----------- ------------\n",
       "    1 G359.475-0.044  -0.525  -0.044  -102     6     4.3      3    0.261 ...     212.667     317.106        31.669          0.506        0.992             1          LN       82.971\n",
       "    2 G359.508-0.135  -0.492  -0.135   -56     9     8.7      3    0.384 ...     224.209     276.371       -20.608          0.623        0.815             1           N      117.934\n",
       "    3 G359.561-0.001  -0.439  -0.001   -90     8     2.7      0    0.222 ...     197.054      263.15        -6.674          0.551        0.997             1           U      106.365\n",
       "   4a G359.595-0.223  -0.405  -0.223   -27    13     4.6      3    0.468 ...     180.619     232.561       -26.881          0.567        0.947             1           N      100.903\n",
       "   4b G359.595-0.223  -0.405  -0.223   -20     8     4.6      3    0.316 ...     178.699     234.446       -25.555          0.559        0.932             0          LN      100.903\n",
       "    5 G359.608+0.018  -0.392   0.018   -78     5     2.0      1    0.183 ...     185.012     230.972        -26.81          0.575        0.997             1          LN      123.728\n",
       "   6a G359.688-0.132  -0.312  -0.132   -29     5     5.6      0    0.655 ...     209.379     285.681         0.229           0.56        0.995             0          LN      153.898\n",
       "   6b G359.688-0.132  -0.312  -0.132   -21    12     5.6      0    0.301 ...      202.07     259.951        -9.201          0.576        0.993             1           U      151.445\n",
       "   7a G359.701+0.032  -0.299   0.032   -73    11     2.4      1    -0.53 ...     205.206     233.126       -44.223          0.655        0.776             1          LN      154.551\n",
       "   7b G359.701+0.032  -0.299   0.032   -37     5     2.4      1      nan ...     213.061     255.086       -39.161          0.648        0.783             0           U      155.592\n",
       "   8a G359.865+0.023  -0.135   0.023   -54     9     2.0      2   -0.107 ...      312.12     325.378       -61.153          0.802        0.585             1           F      197.792\n",
       "   8b G359.865+0.023  -0.135   0.023   -15    15     2.0      2     -1.0 ...     336.889     305.122      -104.092          0.933         0.16             0           F      233.664\n",
       "   8c G359.865+0.023  -0.135   0.023    62     6     2.0      2   -0.769 ...     342.501     310.059      -104.551          0.934        0.213             0           F      197.792\n",
       "    9  G359.88-0.081   -0.12  -0.081    15    12     5.0      1      0.6 ...      195.59     315.944        47.584          0.454        0.996             1          LN      126.201\n",
       "   10 G359.979-0.071  -0.021  -0.071    48    11     2.7      1    0.264 ...     314.437     478.218        91.011          0.549        0.918             1          LN       161.22\n",
       "  ...            ...     ...     ...   ...   ...     ...    ...      ... ...         ...         ...           ...            ...          ...           ...         ...          ...\n",
       "   22   G0.413+0.048   0.413   0.048    19    11     2.9      1    0.838 ...     114.224     190.317         3.323          0.326          1.0             1           N       59.849\n",
       "   23   G0.488+0.008   0.488   0.008    28    11     4.1      1    0.645 ...     111.192     197.491        13.529          0.299        0.999             1           N        49.44\n",
       "   24    G0.645+0.03   0.645    0.03    53    12     1.4      2    0.615 ...      71.228      99.077       -44.921          0.193          1.0             1           N       45.608\n",
       "   25   G0.666-0.028   0.666  -0.028    62    12     5.8      1   -0.332 ...      74.039     121.164       -25.644          0.181        0.933             1           U       38.643\n",
       "  26a    G0.716-0.09   0.716   -0.09    28    15     5.7      3    0.336 ...      78.144     106.837       -48.387          0.256        0.953             1          LN        45.35\n",
       "  26b    G0.716-0.09   0.716   -0.09    58    11     5.7      3    0.387 ...      73.849       93.39       -52.731           0.23        0.985             0          LN        42.91\n",
       "   27   G0.816-0.185   0.816  -0.185    39    15     6.4      3    0.098 ...      66.862      75.244       -64.389          0.196        0.929             1         nan       41.467\n",
       "  28a   G0.888-0.044   0.888  -0.044    14    11     6.8      3      nan ...      76.412      87.104       -62.202          0.279        0.994             0         nan       50.842\n",
       "  28b   G0.888-0.044   0.888  -0.044    26    30     6.8      3     0.03 ...      76.412      87.104       -62.202          0.279        0.994             0         nan       50.842\n",
       "  28c   G0.888-0.044   0.888  -0.044    84     8     6.8      3    0.072 ...      72.609      84.803       -61.107          0.243        0.984             1         nan       44.973\n",
       "  29a   G1.075-0.049   1.075  -0.049    74     6     8.5      3      nan ...     144.496     105.386      -111.218          0.872        0.142             0         nan       61.725\n",
       "  29b   G1.075-0.049   1.075  -0.049    85    16     8.5      3    0.006 ...      84.019      93.974        -63.43          0.327        0.797             1         nan       40.377\n",
       "  30a   G1.601+0.012   1.601   0.012    48     5     3.8      3      nan ...      51.508      59.085       -65.283          -0.01        0.995             1         nan       45.475\n",
       "  30b   G1.601+0.012   1.601   0.012    58    11     3.8      3    0.311 ...      52.864      59.987       -66.332          0.013        0.978             0         nan       46.401\n",
       "   31   G1.652-0.052   1.652  -0.052    50     6     3.7      3    0.937 ...      48.751      59.838       -61.683         -0.056        0.985             1         nan       38.012"
      ]
     },
     "execution_count": 3,
     "metadata": {},
     "output_type": "execute_result"
    }
   ],
   "source": [
    "cat"
   ]
  },
  {
   "cell_type": "code",
   "execution_count": 4,
   "id": "d10ee49b",
   "metadata": {},
   "outputs": [],
   "source": [
    "###just need this file for the multi-comp clouds\n",
    "large_cat = Table.read('../3D_CMZ/LBV_plots_stuff/CMZ_cloud_catalogue_data.csv')\n",
    "large_cat_index = large_cat['index']\n",
    "large_cat_v = large_cat['v']"
   ]
  },
  {
   "cell_type": "code",
   "execution_count": 5,
   "id": "1e8e3f36",
   "metadata": {},
   "outputs": [],
   "source": [
    "### For the stddevs, we need to find them for both the single \n",
    "### and multi-component clouds separately \n",
    "### then combine into the table \n",
    "\n",
    "#Find single v component clouds\n",
    "single_v = {x for x in list(cloud_list) if list(cloud_list).count(x) == 1}\n",
    "\n",
    "\n",
    "sing_index =[]\n",
    "for i in range(len(cloud_list)):\n",
    "    if cloud_list[i] in single_v:\n",
    "        sing_index.append(i)\n",
    "        \n",
    "\n",
    "#find indexes with multiple velocities \n",
    "dup = {x for x in list(cloud_list) if list(cloud_list).count(x) > 1}\n",
    "\n",
    "dup_index =[]\n",
    "for i in range(len(cloud_list)):\n",
    "    if cloud_list[i] in dup:\n",
    "        dup_index.append(i)\n",
    "        \n",
    "id_v_list = []\n",
    "for i in range(len(large_cat_index)):\n",
    "    id_v_list.append('{}_{}'.format(large_cat_index[i], large_cat_v[i]))"
   ]
  },
  {
   "cell_type": "code",
   "execution_count": 6,
   "id": "fe5e289f",
   "metadata": {},
   "outputs": [
    {
     "name": "stderr",
     "output_type": "stream",
     "text": [
      "/opt/anaconda3/lib/python3.9/site-packages/numpy/lib/nanfunctions.py:1879: RuntimeWarning: Degrees of freedom <= 0 for slice.\n",
      "  var = nanvar(a, axis=axis, dtype=dtype, out=out, ddof=ddof,\n"
     ]
    }
   ],
   "source": [
    "flux_ratio_std = []\n",
    "flux_diff_std = []\n",
    "\n",
    "for i in range(len(cat_index)):\n",
    "    if cat_index[i] in cat_index[sing_index]:\n",
    "        cloud = cloud_list[i]\n",
    "        \n",
    "        cloud_flux_diff = pyfits.open('../3D_CMZ/Cloud_masks/{}/{}_flux_diff.fits'.format(cloud, cloud))[0].data\n",
    "        fdiff_std = np.abs(np.nanstd(cloud_flux_diff))\n",
    "        flux_diff_std.append('{:.2f}'.format(np.round(fdiff_std,2)))\n",
    "\n",
    "        cloud_flux_ratio = pyfits.open('../3D_CMZ/Cloud_masks/{}/{}_flux_ratio.fits'.format(cloud, cloud))[0].data\n",
    "        fratio_std = np.abs(np.nanstd(cloud_flux_ratio))\n",
    "        flux_ratio_std.append('{:.2f}'.format(np.round(fratio_std,2)))\n",
    "        \n",
    "    if cat_index[i] in cat_index[dup_index]:\n",
    "        cloud_flux_diff = pyfits.open('../3D_CMZ/Sub_masks/{}/max_submask/{}_{}_flux_diff_maxcutout_isolated.fits'.format(large_cat_index[i], large_cat_index[i],large_cat_v[i] ))[0].data\n",
    "        fdiff_std = np.abs(np.nanstd(cloud_flux_diff))\n",
    "        flux_diff_std.append('{:.2f}'.format(np.round(fdiff_std,2)))\n",
    "\n",
    "        cloud_flux_ratio = pyfits.open('../3D_CMZ/Sub_masks/{}/max_submask/{}_{}_flux_ratio_maxcutout_isolated.fits'.format(large_cat_index[i], large_cat_index[i],large_cat_v[i] ))[0].data\n",
    "        fratio_std = np.abs(np.nanstd(cloud_flux_ratio))\n",
    "        flux_ratio_std.append('{:.2f}'.format(np.round(fratio_std,2)))"
   ]
  },
  {
   "cell_type": "code",
   "execution_count": 7,
   "id": "33e6abbb",
   "metadata": {},
   "outputs": [],
   "source": [
    "### absorption table only has the ids with measurement available\n",
    "\n",
    "#create nan array with size equal to 'index'\n",
    "absorp_arr = []\n",
    "\n",
    "#fill in where indices match. Make nan where no match.\n",
    "for i in cat_index:\n",
    "    if i in absorp_index:\n",
    "        if i =='16a': #16a is an empty mask. replace with nan\n",
    "            absorp_arr.append(np.nan)\n",
    "        else: \n",
    "            absorp_arr.append(absorp_value[np.where(absorp_index==str(i))[0][0]])\n",
    "    else: \n",
    "        absorp_arr.append(np.nan)\n",
    "        \n"
   ]
  },
  {
   "cell_type": "code",
   "execution_count": 8,
   "id": "0a8ad358",
   "metadata": {},
   "outputs": [
    {
     "data": {
      "text/html": [
       "<div><i>Table length=47</i>\n",
       "<table id=\"table140586379186864\" class=\"table-striped table-bordered table-condensed\">\n",
       "<thead><tr><th>leaf_id</th><th>cloud_name</th><th>l</th><th>b</th><th>v</th><th>sigma</th><th>rad</th><th>corr_coeff</th><th>flux_diff</th><th>flux_diff_stdv</th><th>flux_ratio</th><th>flux_ratio_stdv</th><th>absorp_value</th><th>NF_decision</th><th>lb_pixel_mask</th></tr></thead>\n",
       "<thead><tr><th>str3</th><th>str14</th><th>float64</th><th>float64</th><th>int64</th><th>int64</th><th>float64</th><th>float64</th><th>float64</th><th>str6</th><th>float64</th><th>str4</th><th>float64</th><th>str3</th><th>int64</th></tr></thead>\n",
       "<tr><td>1</td><td>G359.475-0.044</td><td>-0.525</td><td>-0.044</td><td>-102</td><td>6</td><td>4.3</td><td>0.26</td><td>31.67</td><td>59.09</td><td>0.51</td><td>0.20</td><td>nan</td><td>LN</td><td>1</td></tr>\n",
       "<tr><td>2</td><td>G359.508-0.135</td><td>-0.492</td><td>-0.135</td><td>-56</td><td>9</td><td>8.7</td><td>0.38</td><td>-20.61</td><td>56.22</td><td>0.62</td><td>0.19</td><td>nan</td><td>N</td><td>1</td></tr>\n",
       "<tr><td>3</td><td>G359.561-0.001</td><td>-0.439</td><td>-0.001</td><td>-90</td><td>8</td><td>2.7</td><td>0.22</td><td>-6.67</td><td>23.73</td><td>0.55</td><td>0.09</td><td>2.15</td><td>U</td><td>1</td></tr>\n",
       "<tr><td>4a</td><td>G359.595-0.223</td><td>-0.405</td><td>-0.223</td><td>-27</td><td>13</td><td>4.6</td><td>0.43</td><td>-26.88</td><td>73.95</td><td>0.57</td><td>0.30</td><td>nan</td><td>N</td><td>1</td></tr>\n",
       "<tr><td>4b</td><td>G359.595-0.223</td><td>-0.405</td><td>-0.223</td><td>-20</td><td>8</td><td>4.6</td><td>0.26</td><td>-25.56</td><td>101.97</td><td>0.56</td><td>0.42</td><td>nan</td><td>LN</td><td>0</td></tr>\n",
       "<tr><td>5</td><td>G359.608+0.018</td><td>-0.392</td><td>0.018</td><td>-78</td><td>5</td><td>2.0</td><td>0.18</td><td>-26.81</td><td>23.27</td><td>0.57</td><td>0.11</td><td>0.52</td><td>LN</td><td>1</td></tr>\n",
       "<tr><td>6a</td><td>G359.688-0.132</td><td>-0.312</td><td>-0.132</td><td>-29</td><td>5</td><td>5.6</td><td>0.62</td><td>0.23</td><td>25.94</td><td>0.56</td><td>0.10</td><td>3.3</td><td>LN</td><td>0</td></tr>\n",
       "<tr><td>6b</td><td>G359.688-0.132</td><td>-0.312</td><td>-0.132</td><td>-21</td><td>12</td><td>5.6</td><td>0.28</td><td>-9.2</td><td>29.84</td><td>0.58</td><td>0.10</td><td>2.28</td><td>U</td><td>1</td></tr>\n",
       "<tr><td>7a</td><td>G359.701+0.032</td><td>-0.299</td><td>0.032</td><td>-73</td><td>11</td><td>2.4</td><td>-0.54</td><td>-44.22</td><td>32.34</td><td>0.66</td><td>0.13</td><td>0.36</td><td>LN</td><td>1</td></tr>\n",
       "<tr><td>7b</td><td>G359.701+0.032</td><td>-0.299</td><td>0.032</td><td>-37</td><td>5</td><td>2.4</td><td>-0.62</td><td>-39.16</td><td>29.91</td><td>0.65</td><td>0.12</td><td>1.88</td><td>U</td><td>0</td></tr>\n",
       "<tr><td>8a</td><td>G359.865+0.023</td><td>-0.135</td><td>0.023</td><td>-54</td><td>9</td><td>2.0</td><td>-0.05</td><td>-61.15</td><td>43.09</td><td>0.8</td><td>0.13</td><td>2.4</td><td>F</td><td>1</td></tr>\n",
       "<tr><td>8b</td><td>G359.865+0.023</td><td>-0.135</td><td>0.023</td><td>-15</td><td>15</td><td>2.0</td><td>nan</td><td>-104.09</td><td>31.73</td><td>0.93</td><td>0.10</td><td>34.87</td><td>F</td><td>0</td></tr>\n",
       "<tr><td>8c</td><td>G359.865+0.023</td><td>-0.135</td><td>0.023</td><td>62</td><td>6</td><td>2.0</td><td>-0.64</td><td>-104.55</td><td>50.77</td><td>0.93</td><td>0.17</td><td>2.81</td><td>F</td><td>0</td></tr>\n",
       "<tr><td>9</td><td>G359.88-0.081</td><td>-0.12</td><td>-0.081</td><td>15</td><td>12</td><td>5.0</td><td>0.6</td><td>47.58</td><td>54.90</td><td>0.45</td><td>0.13</td><td>3.45</td><td>LN</td><td>1</td></tr>\n",
       "<tr><td>10</td><td>G359.979-0.071</td><td>-0.021</td><td>-0.071</td><td>48</td><td>11</td><td>2.7</td><td>0.26</td><td>91.01</td><td>216.38</td><td>0.55</td><td>0.46</td><td>0.78</td><td>LN</td><td>1</td></tr>\n",
       "<tr><td>...</td><td>...</td><td>...</td><td>...</td><td>...</td><td>...</td><td>...</td><td>...</td><td>...</td><td>...</td><td>...</td><td>...</td><td>...</td><td>...</td><td>...</td></tr>\n",
       "<tr><td>22</td><td>G0.413+0.048</td><td>0.413</td><td>0.048</td><td>19</td><td>11</td><td>2.9</td><td>0.84</td><td>3.32</td><td>15.55</td><td>0.33</td><td>0.07</td><td>0.15</td><td>N</td><td>1</td></tr>\n",
       "<tr><td>23</td><td>G0.488+0.008</td><td>0.488</td><td>0.008</td><td>28</td><td>11</td><td>4.1</td><td>0.64</td><td>13.53</td><td>22.54</td><td>0.3</td><td>0.07</td><td>0.35</td><td>N</td><td>1</td></tr>\n",
       "<tr><td>24</td><td>G0.645+0.03</td><td>0.645</td><td>0.03</td><td>53</td><td>12</td><td>1.4</td><td>0.62</td><td>-44.92</td><td>2.53</td><td>0.19</td><td>0.02</td><td>0.53</td><td>N</td><td>1</td></tr>\n",
       "<tr><td>25</td><td>G0.666-0.028</td><td>0.666</td><td>-0.028</td><td>62</td><td>12</td><td>5.8</td><td>-0.33</td><td>-25.64</td><td>25.60</td><td>0.18</td><td>0.23</td><td>2.12</td><td>U</td><td>1</td></tr>\n",
       "<tr><td>26a</td><td>G0.716-0.09</td><td>0.716</td><td>-0.09</td><td>28</td><td>15</td><td>5.7</td><td>0.32</td><td>-48.39</td><td>50.16</td><td>0.26</td><td>0.46</td><td>nan</td><td>LN</td><td>1</td></tr>\n",
       "<tr><td>26b</td><td>G0.716-0.09</td><td>0.716</td><td>-0.09</td><td>58</td><td>11</td><td>5.7</td><td>0.42</td><td>-52.73</td><td>30.69</td><td>0.23</td><td>0.33</td><td>nan</td><td>LN</td><td>0</td></tr>\n",
       "<tr><td>27</td><td>G0.816-0.185</td><td>0.816</td><td>-0.185</td><td>39</td><td>15</td><td>6.4</td><td>0.1</td><td>-64.39</td><td>7.36</td><td>0.2</td><td>0.09</td><td>nan</td><td>nan</td><td>1</td></tr>\n",
       "<tr><td>28a</td><td>G0.888-0.044</td><td>0.888</td><td>-0.044</td><td>14</td><td>11</td><td>6.8</td><td>-0.94</td><td>-62.2</td><td>4.38</td><td>0.28</td><td>0.05</td><td>nan</td><td>nan</td><td>0</td></tr>\n",
       "<tr><td>28b</td><td>G0.888-0.044</td><td>0.888</td><td>-0.044</td><td>26</td><td>30</td><td>6.8</td><td>-0.94</td><td>-62.2</td><td>4.38</td><td>0.28</td><td>0.05</td><td>nan</td><td>nan</td><td>0</td></tr>\n",
       "<tr><td>28c</td><td>G0.888-0.044</td><td>0.888</td><td>-0.044</td><td>84</td><td>8</td><td>6.8</td><td>0.04</td><td>-61.11</td><td>8.38</td><td>0.24</td><td>0.10</td><td>nan</td><td>nan</td><td>1</td></tr>\n",
       "<tr><td>29a</td><td>G1.075-0.049</td><td>1.075</td><td>-0.049</td><td>74</td><td>6</td><td>8.5</td><td>-0.23</td><td>-111.22</td><td>130.85</td><td>0.87</td><td>1.17</td><td>nan</td><td>nan</td><td>0</td></tr>\n",
       "<tr><td>29b</td><td>G1.075-0.049</td><td>1.075</td><td>-0.049</td><td>85</td><td>16</td><td>8.5</td><td>-0.01</td><td>-63.43</td><td>100.33</td><td>0.33</td><td>0.91</td><td>nan</td><td>nan</td><td>1</td></tr>\n",
       "<tr><td>30a</td><td>G1.601+0.012</td><td>1.601</td><td>0.012</td><td>48</td><td>5</td><td>3.8</td><td>0.34</td><td>-65.28</td><td>2.81</td><td>-0.01</td><td>0.04</td><td>nan</td><td>nan</td><td>1</td></tr>\n",
       "<tr><td>30b</td><td>G1.601+0.012</td><td>1.601</td><td>0.012</td><td>58</td><td>11</td><td>3.8</td><td>0.15</td><td>-66.33</td><td>3.24</td><td>0.01</td><td>0.05</td><td>nan</td><td>nan</td><td>0</td></tr>\n",
       "<tr><td>31</td><td>G1.652-0.052</td><td>1.652</td><td>-0.052</td><td>50</td><td>6</td><td>3.7</td><td>0.94</td><td>-61.68</td><td>6.47</td><td>-0.06</td><td>0.11</td><td>nan</td><td>nan</td><td>1</td></tr>\n",
       "</table></div>"
      ],
      "text/plain": [
       "<Table length=47>\n",
       "leaf_id   cloud_name      l       b      v   sigma   rad   corr_coeff flux_diff flux_diff_stdv flux_ratio flux_ratio_stdv absorp_value NF_decision lb_pixel_mask\n",
       "  str3      str14      float64 float64 int64 int64 float64  float64    float64       str6       float64         str4        float64        str3        int64    \n",
       "------- -------------- ------- ------- ----- ----- ------- ---------- --------- -------------- ---------- --------------- ------------ ----------- -------------\n",
       "      1 G359.475-0.044  -0.525  -0.044  -102     6     4.3       0.26     31.67          59.09       0.51            0.20          nan          LN             1\n",
       "      2 G359.508-0.135  -0.492  -0.135   -56     9     8.7       0.38    -20.61          56.22       0.62            0.19          nan           N             1\n",
       "      3 G359.561-0.001  -0.439  -0.001   -90     8     2.7       0.22     -6.67          23.73       0.55            0.09         2.15           U             1\n",
       "     4a G359.595-0.223  -0.405  -0.223   -27    13     4.6       0.43    -26.88          73.95       0.57            0.30          nan           N             1\n",
       "     4b G359.595-0.223  -0.405  -0.223   -20     8     4.6       0.26    -25.56         101.97       0.56            0.42          nan          LN             0\n",
       "      5 G359.608+0.018  -0.392   0.018   -78     5     2.0       0.18    -26.81          23.27       0.57            0.11         0.52          LN             1\n",
       "     6a G359.688-0.132  -0.312  -0.132   -29     5     5.6       0.62      0.23          25.94       0.56            0.10          3.3          LN             0\n",
       "     6b G359.688-0.132  -0.312  -0.132   -21    12     5.6       0.28      -9.2          29.84       0.58            0.10         2.28           U             1\n",
       "     7a G359.701+0.032  -0.299   0.032   -73    11     2.4      -0.54    -44.22          32.34       0.66            0.13         0.36          LN             1\n",
       "     7b G359.701+0.032  -0.299   0.032   -37     5     2.4      -0.62    -39.16          29.91       0.65            0.12         1.88           U             0\n",
       "     8a G359.865+0.023  -0.135   0.023   -54     9     2.0      -0.05    -61.15          43.09        0.8            0.13          2.4           F             1\n",
       "     8b G359.865+0.023  -0.135   0.023   -15    15     2.0        nan   -104.09          31.73       0.93            0.10        34.87           F             0\n",
       "     8c G359.865+0.023  -0.135   0.023    62     6     2.0      -0.64   -104.55          50.77       0.93            0.17         2.81           F             0\n",
       "      9  G359.88-0.081   -0.12  -0.081    15    12     5.0        0.6     47.58          54.90       0.45            0.13         3.45          LN             1\n",
       "     10 G359.979-0.071  -0.021  -0.071    48    11     2.7       0.26     91.01         216.38       0.55            0.46         0.78          LN             1\n",
       "    ...            ...     ...     ...   ...   ...     ...        ...       ...            ...        ...             ...          ...         ...           ...\n",
       "     22   G0.413+0.048   0.413   0.048    19    11     2.9       0.84      3.32          15.55       0.33            0.07         0.15           N             1\n",
       "     23   G0.488+0.008   0.488   0.008    28    11     4.1       0.64     13.53          22.54        0.3            0.07         0.35           N             1\n",
       "     24    G0.645+0.03   0.645    0.03    53    12     1.4       0.62    -44.92           2.53       0.19            0.02         0.53           N             1\n",
       "     25   G0.666-0.028   0.666  -0.028    62    12     5.8      -0.33    -25.64          25.60       0.18            0.23         2.12           U             1\n",
       "    26a    G0.716-0.09   0.716   -0.09    28    15     5.7       0.32    -48.39          50.16       0.26            0.46          nan          LN             1\n",
       "    26b    G0.716-0.09   0.716   -0.09    58    11     5.7       0.42    -52.73          30.69       0.23            0.33          nan          LN             0\n",
       "     27   G0.816-0.185   0.816  -0.185    39    15     6.4        0.1    -64.39           7.36        0.2            0.09          nan         nan             1\n",
       "    28a   G0.888-0.044   0.888  -0.044    14    11     6.8      -0.94     -62.2           4.38       0.28            0.05          nan         nan             0\n",
       "    28b   G0.888-0.044   0.888  -0.044    26    30     6.8      -0.94     -62.2           4.38       0.28            0.05          nan         nan             0\n",
       "    28c   G0.888-0.044   0.888  -0.044    84     8     6.8       0.04    -61.11           8.38       0.24            0.10          nan         nan             1\n",
       "    29a   G1.075-0.049   1.075  -0.049    74     6     8.5      -0.23   -111.22         130.85       0.87            1.17          nan         nan             0\n",
       "    29b   G1.075-0.049   1.075  -0.049    85    16     8.5      -0.01    -63.43         100.33       0.33            0.91          nan         nan             1\n",
       "    30a   G1.601+0.012   1.601   0.012    48     5     3.8       0.34    -65.28           2.81      -0.01            0.04          nan         nan             1\n",
       "    30b   G1.601+0.012   1.601   0.012    58    11     3.8       0.15    -66.33           3.24       0.01            0.05          nan         nan             0\n",
       "     31   G1.652-0.052   1.652  -0.052    50     6     3.7       0.94    -61.68           6.47      -0.06            0.11          nan         nan             1"
      ]
     },
     "execution_count": 8,
     "metadata": {},
     "output_type": "execute_result"
    }
   ],
   "source": [
    "### Construct new table \n",
    "\n",
    "synth_table = Table()\n",
    "synth_table['leaf_id'] = cat_index\n",
    "synth_table['cloud_name'] = cat['cloud_name']\n",
    "synth_table['l'] = l\n",
    "synth_table['b'] = b\n",
    "synth_table['v'] = v\n",
    "synth_table['sigma'] = sigma\n",
    "synth_table['rad'] = rad\n",
    "synth_table['corr_coeff'] = corr_coeff.round(2)\n",
    "synth_table['flux_diff'] = flux_diff.round(2)\n",
    "synth_table['flux_diff_stdv'] = flux_diff_std\n",
    "synth_table['flux_ratio'] = flux_ratio.round(2)\n",
    "synth_table['flux_ratio_stdv'] = flux_ratio_std\n",
    "synth_table['absorp_value'] = absorp_arr\n",
    "synth_table['NF_decision'] = NF_decision\n",
    "synth_table['lb_pixel_mask'] = lb_pixel_mask\n",
    "\n",
    "synth_table\n"
   ]
  },
  {
   "cell_type": "code",
   "execution_count": 9,
   "id": "a79572e0",
   "metadata": {},
   "outputs": [],
   "source": [
    "synth_table.write(\"/Users/danilipman/Documents/Research/UConn/CMZ_SYNTH/synth_table.tex\", overwrite=True)\n",
    "\n",
    "    \n"
   ]
  },
  {
   "cell_type": "code",
   "execution_count": 281,
   "id": "ca5121e1",
   "metadata": {},
   "outputs": [
    {
     "name": "stdout",
     "output_type": "stream",
     "text": [
      "17c 1.63\n"
     ]
    }
   ],
   "source": [
    "print(absorp_index[22], absorp_value[22])"
   ]
  },
  {
   "cell_type": "code",
   "execution_count": null,
   "id": "54e3851d",
   "metadata": {},
   "outputs": [],
   "source": []
  }
 ],
 "metadata": {
  "kernelspec": {
   "display_name": "Python 3 (ipykernel)",
   "language": "python",
   "name": "python3"
  },
  "language_info": {
   "codemirror_mode": {
    "name": "ipython",
    "version": 3
   },
   "file_extension": ".py",
   "mimetype": "text/x-python",
   "name": "python",
   "nbconvert_exporter": "python",
   "pygments_lexer": "ipython3",
   "version": "3.9.13"
  }
 },
 "nbformat": 4,
 "nbformat_minor": 5
}

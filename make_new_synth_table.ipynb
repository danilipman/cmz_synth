{
 "cells": [
  {
   "cell_type": "code",
   "execution_count": 1,
   "id": "b987d2f7",
   "metadata": {},
   "outputs": [
    {
     "name": "stderr",
     "output_type": "stream",
     "text": [
      "/opt/anaconda3/lib/python3.9/site-packages/pandas/core/computation/expressions.py:21: UserWarning: Pandas requires version '2.8.4' or newer of 'numexpr' (version '2.8.3' currently installed).\n",
      "  from pandas.core.computation.check import NUMEXPR_INSTALLED\n",
      "/opt/anaconda3/lib/python3.9/site-packages/pandas/core/arrays/masked.py:60: UserWarning: Pandas requires version '1.3.6' or newer of 'bottleneck' (version '1.3.5' currently installed).\n",
      "  from pandas.core import (\n"
     ]
    }
   ],
   "source": [
    "import os\n",
    "import numpy as np\n",
    "import pandas as pd\n",
    "from astropy.io import fits\n",
    "from astropy.wcs import WCS\n",
    "from astropy.table import Table\n",
    "from numpy import linspace, array, logspace, sin, cos, pi, arange, sqrt, arctan2, arccos\n",
    "\n",
    "\n",
    "import astropy.io.fits as pyfits\n",
    "\n"
   ]
  },
  {
   "cell_type": "code",
   "execution_count": 2,
   "id": "5e08cdf6",
   "metadata": {},
   "outputs": [],
   "source": [
    "#Grab the existing table columns we want \n",
    "cat = Table.read('../3D_CMZ/LBV_plots_stuff/CMZ_cloud_catalogue_data.tex')\n",
    "absorp_tab = Table.read('../3D_CMZ/LBV_plots_stuff/absorption_table_merged.tex')\n",
    "\n",
    "absorp_NF_tab = pd.read_csv('../3D_CMZ/LBV_plots_stuff/paper3_agreement_catalogue.txt',sep=',',\n",
    "                            usecols=[0,1,2,3,4], names=['i', 'l', 'b', 'v', 'NF'],\n",
    "                            header=None, index_col=False)\n",
    "\n",
    "\n",
    "cat_index = cat['index']\n",
    "cloud_list = cat['cloud_name']\n",
    "l = cat['l']\n",
    "b = cat['b']\n",
    "v = cat['v']\n",
    "sigma = cat['sigma']\n",
    "rad = cat['rad']\n",
    "NF_decision = cat['NF_decision']\n",
    "\n",
    "lb_pixel_mask = cat['lb_pixel_mask']\n",
    "\n",
    "corr_coeff = cat['r_p_max']\n",
    "flux_diff = cat['flux_diff_max']\n",
    "flux_ratio = cat['flux_ratio_max']\n",
    "\n",
    "absorp_value = absorp_tab['fraction_value_peak_mask']\n",
    "absorp_index = absorp_tab['leaf_id']"
   ]
  },
  {
   "cell_type": "code",
   "execution_count": 4,
   "id": "2f6e4ed8",
   "metadata": {},
   "outputs": [
    {
     "name": "stderr",
     "output_type": "stream",
     "text": [
      "/var/folders/4b/_cshhy012yj8k_187jxt881r0000gn/T/ipykernel_38710/3162031848.py:1: FutureWarning: ChainedAssignmentError: behaviour will change in pandas 3.0!\n",
      "You are setting values through chained assignment. Currently this works in certain cases, but when using Copy-on-Write (which will become the default behaviour in pandas 3.0) this will never work to update the original DataFrame or Series, because the intermediate object on which we are setting values will behave as a copy.\n",
      "A typical example is when you are setting values in a column of a DataFrame, like:\n",
      "\n",
      "df[\"col\"][row_indexer] = value\n",
      "\n",
      "Use `df.loc[row_indexer, \"col\"] = values` instead, to perform the assignment in a single step and ensure this keeps updating the original `df`.\n",
      "\n",
      "See the caveats in the documentation: https://pandas.pydata.org/pandas-docs/stable/user_guide/indexing.html#returning-a-view-versus-a-copy\n",
      "\n",
      "  absorp_NF_tab['NF'][np.where(absorp_NF_tab['NF']=='Far')[0]] = 'F'\n",
      "/var/folders/4b/_cshhy012yj8k_187jxt881r0000gn/T/ipykernel_38710/3162031848.py:1: SettingWithCopyWarning: \n",
      "A value is trying to be set on a copy of a slice from a DataFrame\n",
      "\n",
      "See the caveats in the documentation: https://pandas.pydata.org/pandas-docs/stable/user_guide/indexing.html#returning-a-view-versus-a-copy\n",
      "  absorp_NF_tab['NF'][np.where(absorp_NF_tab['NF']=='Far')[0]] = 'F'\n",
      "/var/folders/4b/_cshhy012yj8k_187jxt881r0000gn/T/ipykernel_38710/3162031848.py:2: FutureWarning: ChainedAssignmentError: behaviour will change in pandas 3.0!\n",
      "You are setting values through chained assignment. Currently this works in certain cases, but when using Copy-on-Write (which will become the default behaviour in pandas 3.0) this will never work to update the original DataFrame or Series, because the intermediate object on which we are setting values will behave as a copy.\n",
      "A typical example is when you are setting values in a column of a DataFrame, like:\n",
      "\n",
      "df[\"col\"][row_indexer] = value\n",
      "\n",
      "Use `df.loc[row_indexer, \"col\"] = values` instead, to perform the assignment in a single step and ensure this keeps updating the original `df`.\n",
      "\n",
      "See the caveats in the documentation: https://pandas.pydata.org/pandas-docs/stable/user_guide/indexing.html#returning-a-view-versus-a-copy\n",
      "\n",
      "  absorp_NF_tab['NF'][np.where(absorp_NF_tab['NF']=='Near')[0]] = 'N'\n",
      "/var/folders/4b/_cshhy012yj8k_187jxt881r0000gn/T/ipykernel_38710/3162031848.py:2: SettingWithCopyWarning: \n",
      "A value is trying to be set on a copy of a slice from a DataFrame\n",
      "\n",
      "See the caveats in the documentation: https://pandas.pydata.org/pandas-docs/stable/user_guide/indexing.html#returning-a-view-versus-a-copy\n",
      "  absorp_NF_tab['NF'][np.where(absorp_NF_tab['NF']=='Near')[0]] = 'N'\n"
     ]
    }
   ],
   "source": [
    "absorp_NF_tab['NF'][np.where(absorp_NF_tab['NF']=='Far')[0]] = 'F'\n",
    "absorp_NF_tab['NF'][np.where(absorp_NF_tab['NF']=='Near')[0]] = 'N'\n",
    "\n",
    "NF_absorp = absorp_NF_tab['NF'].values"
   ]
  },
  {
   "cell_type": "code",
   "execution_count": 5,
   "id": "d10ee49b",
   "metadata": {},
   "outputs": [],
   "source": [
    "###just need this file for the multi-comp clouds\n",
    "large_cat = Table.read('../3D_CMZ/LBV_plots_stuff/CMZ_cloud_catalogue_data_dup.csv')\n",
    "large_cat_index = large_cat['index']\n",
    "large_cat_v = large_cat['v']"
   ]
  },
  {
   "cell_type": "code",
   "execution_count": 7,
   "id": "1e8e3f36",
   "metadata": {},
   "outputs": [],
   "source": [
    "### For the stddevs, we need to find them for both the single \n",
    "### and multi-component clouds separately \n",
    "### then combine into the table \n",
    "\n",
    "#Find single v component clouds\n",
    "single_v = {x for x in list(cloud_list) if list(cloud_list).count(x) == 1}\n",
    "\n",
    "\n",
    "sing_index =[]\n",
    "for i in range(len(cloud_list)):\n",
    "    if cloud_list[i] in single_v:\n",
    "        sing_index.append(i)\n",
    "        \n",
    "\n",
    "#find indexes with multiple velocities \n",
    "dup = {x for x in list(cloud_list) if list(cloud_list).count(x) > 1}\n",
    "\n",
    "dup_index =[]\n",
    "for i in range(len(cloud_list)):\n",
    "    if cloud_list[i] in dup:\n",
    "        dup_index.append(i)\n",
    "        \n",
    "id_v_list = []\n",
    "for i in range(len(large_cat_index)):\n",
    "    id_v_list.append('{}_{}'.format(large_cat_index[i], large_cat_v[i]))"
   ]
  },
  {
   "cell_type": "code",
   "execution_count": 8,
   "id": "fe5e289f",
   "metadata": {},
   "outputs": [
    {
     "name": "stderr",
     "output_type": "stream",
     "text": [
      "/opt/anaconda3/lib/python3.9/site-packages/numpy/lib/nanfunctions.py:1879: RuntimeWarning: Degrees of freedom <= 0 for slice.\n",
      "  var = nanvar(a, axis=axis, dtype=dtype, out=out, ddof=ddof,\n"
     ]
    }
   ],
   "source": [
    "flux_ratio_std = []\n",
    "flux_diff_std = []\n",
    "\n",
    "for i in range(len(cat_index)):\n",
    "    if cat_index[i] in cat_index[sing_index]:\n",
    "        cloud = cloud_list[i]\n",
    "        \n",
    "        cloud_flux_diff = pyfits.open('../3D_CMZ/Cloud_masks/{}/{}_flux_diff.fits'.format(cloud, cloud))[0].data\n",
    "        fdiff_std = np.abs(np.nanstd(cloud_flux_diff))\n",
    "        flux_diff_std.append('{:.2f}'.format(np.round(fdiff_std,2)))\n",
    "\n",
    "        cloud_flux_ratio = pyfits.open('../3D_CMZ/Cloud_masks/{}/{}_flux_ratio.fits'.format(cloud, cloud))[0].data\n",
    "        fratio_std = np.abs(np.nanstd(cloud_flux_ratio))\n",
    "        flux_ratio_std.append('{:.2f}'.format(np.round(fratio_std,2)))\n",
    "        \n",
    "    if cat_index[i] in cat_index[dup_index]:\n",
    "        cloud_flux_diff = pyfits.open('../3D_CMZ/Sub_masks/{}/max_submask/{}_{}_flux_diff_maxcutout_isolated.fits'.format(large_cat_index[i], large_cat_index[i],large_cat_v[i] ))[0].data\n",
    "        fdiff_std = np.abs(np.nanstd(cloud_flux_diff))\n",
    "        flux_diff_std.append('{:.2f}'.format(np.round(fdiff_std,2)))\n",
    "\n",
    "        cloud_flux_ratio = pyfits.open('../3D_CMZ/Sub_masks/{}/max_submask/{}_{}_flux_ratio_maxcutout_isolated.fits'.format(large_cat_index[i], large_cat_index[i],large_cat_v[i] ))[0].data\n",
    "        fratio_std = np.abs(np.nanstd(cloud_flux_ratio))\n",
    "        flux_ratio_std.append('{:.2f}'.format(np.round(fratio_std,2)))"
   ]
  },
  {
   "cell_type": "code",
   "execution_count": 14,
   "id": "51b3b427",
   "metadata": {},
   "outputs": [
    {
     "data": {
      "text/plain": [
       "'G359.979-0.071'"
      ]
     },
     "execution_count": 14,
     "metadata": {},
     "output_type": "execute_result"
    }
   ],
   "source": [
    "cloud_list[14]"
   ]
  },
  {
   "cell_type": "code",
   "execution_count": 41,
   "id": "33e6abbb",
   "metadata": {},
   "outputs": [],
   "source": [
    "### absorption table only has the ids with measurement available\n",
    "\n",
    "#create nan array with size equal to 'index'\n",
    "absorp_arr = []\n",
    "absorp_NF = []\n",
    "\n",
    "#fill in where indices match. Make nan where no match.\n",
    "for i in cat_index:\n",
    "    if i in absorp_index:\n",
    "        if i =='16a': #16a is an empty mask. replace with nan\n",
    "            absorp_arr.append(np.nan)\n",
    "        else: \n",
    "            absorp_arr.append(absorp_value[np.where(absorp_index==str(i))[0][0]])\n",
    "    else: \n",
    "        absorp_arr.append(np.nan)\n",
    "        \n",
    "for i in cat_index:\n",
    "    if i in absorp_NF_tab['i'].values:\n",
    "        if i =='16a': #16a is an empty mask. replace with nan\n",
    "            absorp_NF.append(np.nan)\n",
    "        else: \n",
    "            absorp_NF.append(absorp_NF_tab['NF'][np.where(absorp_NF_tab['i']==str(i))[0][0]])\n",
    "    else: \n",
    "        absorp_NF.append(np.nan)\n"
   ]
  },
  {
   "cell_type": "code",
   "execution_count": 42,
   "id": "0a8ad358",
   "metadata": {},
   "outputs": [
    {
     "data": {
      "text/html": [
       "<div><i>Table length=47</i>\n",
       "<table id=\"table140412547484688\" class=\"table-striped table-bordered table-condensed\">\n",
       "<thead><tr><th>leaf_id</th><th>cloud_name</th><th>l</th><th>b</th><th>v</th><th>sigma</th><th>rad</th><th>corr_coeff</th><th>flux_diff</th><th>flux_diff_stdv</th><th>flux_ratio</th><th>flux_ratio_stdv</th><th>absorp_value</th><th>NF_decision</th><th>absorp_NF</th><th>lb_pixel_mask</th></tr></thead>\n",
       "<thead><tr><th>str3</th><th>str14</th><th>float64</th><th>float64</th><th>int64</th><th>int64</th><th>float64</th><th>float64</th><th>float64</th><th>str6</th><th>float64</th><th>str4</th><th>float64</th><th>str3</th><th>str32</th><th>int64</th></tr></thead>\n",
       "<tr><td>1</td><td>G359.475-0.044</td><td>-0.525</td><td>-0.044</td><td>-102</td><td>6</td><td>4.3</td><td>0.26</td><td>-20.97</td><td>59.09</td><td>0.37</td><td>0.20</td><td>nan</td><td>LN</td><td>nan</td><td>1</td></tr>\n",
       "<tr><td>2</td><td>G359.508-0.135</td><td>-0.492</td><td>-0.135</td><td>-56</td><td>9</td><td>8.7</td><td>0.38</td><td>-73.25</td><td>56.22</td><td>0.46</td><td>0.19</td><td>nan</td><td>N</td><td>nan</td><td>1</td></tr>\n",
       "<tr><td>3</td><td>G359.561-0.001</td><td>-0.439</td><td>-0.001</td><td>-90</td><td>8</td><td>2.7</td><td>0.22</td><td>-59.31</td><td>23.73</td><td>0.38</td><td>0.09</td><td>2.15</td><td>U</td><td>F</td><td>1</td></tr>\n",
       "<tr><td>4a</td><td>G359.595-0.223</td><td>-0.405</td><td>-0.223</td><td>-27</td><td>13</td><td>4.6</td><td>0.43</td><td>-79.52</td><td>73.95</td><td>0.37</td><td>0.30</td><td>nan</td><td>N</td><td>nan</td><td>1</td></tr>\n",
       "<tr><td>4b</td><td>G359.595-0.223</td><td>-0.405</td><td>-0.223</td><td>-20</td><td>8</td><td>4.6</td><td>0.26</td><td>-78.19</td><td>101.97</td><td>0.36</td><td>0.42</td><td>nan</td><td>LN</td><td>nan</td><td>0</td></tr>\n",
       "<tr><td>5</td><td>G359.608+0.018</td><td>-0.392</td><td>0.018</td><td>-78</td><td>5</td><td>2.0</td><td>0.18</td><td>-79.45</td><td>23.27</td><td>0.38</td><td>0.11</td><td>0.52</td><td>LN</td><td>N</td><td>1</td></tr>\n",
       "<tr><td>6a</td><td>G359.688-0.132</td><td>-0.312</td><td>-0.132</td><td>-29</td><td>5</td><td>5.6</td><td>0.62</td><td>-52.41</td><td>25.94</td><td>0.4</td><td>0.10</td><td>3.3</td><td>LN</td><td>F</td><td>0</td></tr>\n",
       "<tr><td>6b</td><td>G359.688-0.132</td><td>-0.312</td><td>-0.132</td><td>-21</td><td>12</td><td>5.6</td><td>0.28</td><td>-61.84</td><td>29.84</td><td>0.41</td><td>0.09</td><td>2.28</td><td>U</td><td>F</td><td>1</td></tr>\n",
       "<tr><td>7a</td><td>G359.701+0.032</td><td>-0.299</td><td>0.032</td><td>-73</td><td>11</td><td>2.4</td><td>-0.54</td><td>-96.86</td><td>32.34</td><td>0.46</td><td>0.12</td><td>0.36</td><td>LN</td><td>N</td><td>1</td></tr>\n",
       "<tr><td>7b</td><td>G359.701+0.032</td><td>-0.299</td><td>0.032</td><td>-37</td><td>5</td><td>2.4</td><td>-0.62</td><td>-91.8</td><td>29.91</td><td>0.47</td><td>0.13</td><td>1.88</td><td>U</td><td>N</td><td>0</td></tr>\n",
       "<tr><td>8a</td><td>G359.865+0.023</td><td>-0.135</td><td>0.023</td><td>-54</td><td>9</td><td>2.0</td><td>-0.05</td><td>-113.79</td><td>43.09</td><td>0.66</td><td>0.13</td><td>2.4</td><td>F</td><td>F</td><td>1</td></tr>\n",
       "<tr><td>...</td><td>...</td><td>...</td><td>...</td><td>...</td><td>...</td><td>...</td><td>...</td><td>...</td><td>...</td><td>...</td><td>...</td><td>...</td><td>...</td><td>...</td><td>...</td></tr>\n",
       "<tr><td>26a</td><td>G0.716-0.09</td><td>0.716</td><td>-0.09</td><td>28</td><td>15</td><td>5.7</td><td>0.32</td><td>-101.03</td><td>50.16</td><td>-0.17</td><td>0.47</td><td>nan</td><td>N</td><td>nan</td><td>1</td></tr>\n",
       "<tr><td>26b</td><td>G0.716-0.09</td><td>0.716</td><td>-0.09</td><td>58</td><td>11</td><td>5.7</td><td>0.42</td><td>-105.37</td><td>30.69</td><td>-0.24</td><td>0.33</td><td>nan</td><td>N</td><td>nan</td><td>0</td></tr>\n",
       "<tr><td>27</td><td>G0.816-0.185</td><td>0.816</td><td>-0.185</td><td>39</td><td>15</td><td>6.4</td><td>0.1</td><td>-117.03</td><td>7.36</td><td>-0.39</td><td>0.10</td><td>nan</td><td>nan</td><td>nan</td><td>1</td></tr>\n",
       "<tr><td>28a</td><td>G0.888-0.044</td><td>0.888</td><td>-0.044</td><td>14</td><td>11</td><td>6.8</td><td>-0.94</td><td>-114.84</td><td>4.38</td><td>-0.23</td><td>0.04</td><td>nan</td><td>nan</td><td>nan</td><td>0</td></tr>\n",
       "<tr><td>28b</td><td>G0.888-0.044</td><td>0.888</td><td>-0.044</td><td>26</td><td>30</td><td>6.8</td><td>-0.94</td><td>-114.84</td><td>4.38</td><td>-0.23</td><td>0.04</td><td>nan</td><td>nan</td><td>nan</td><td>0</td></tr>\n",
       "<tr><td>28c</td><td>G0.888-0.044</td><td>0.888</td><td>-0.044</td><td>84</td><td>8</td><td>6.8</td><td>0.04</td><td>-113.75</td><td>8.38</td><td>-0.28</td><td>0.11</td><td>nan</td><td>nan</td><td>nan</td><td>1</td></tr>\n",
       "<tr><td>29a</td><td>G1.075-0.049</td><td>1.075</td><td>-0.049</td><td>74</td><td>6</td><td>8.5</td><td>-0.23</td><td>-163.86</td><td>130.85</td><td>0.45</td><td>1.18</td><td>nan</td><td>nan</td><td>nan</td><td>0</td></tr>\n",
       "<tr><td>29b</td><td>G1.075-0.049</td><td>1.075</td><td>-0.049</td><td>85</td><td>16</td><td>8.5</td><td>-0.01</td><td>-116.07</td><td>100.33</td><td>-0.13</td><td>0.93</td><td>nan</td><td>nan</td><td>nan</td><td>1</td></tr>\n",
       "<tr><td>30a</td><td>G1.601+0.012</td><td>1.601</td><td>0.012</td><td>48</td><td>5</td><td>3.8</td><td>0.34</td><td>-117.92</td><td>2.81</td><td>-0.76</td><td>0.05</td><td>nan</td><td>nan</td><td>nan</td><td>1</td></tr>\n",
       "<tr><td>30b</td><td>G1.601+0.012</td><td>1.601</td><td>0.012</td><td>58</td><td>11</td><td>3.8</td><td>0.15</td><td>-118.97</td><td>3.24</td><td>-0.74</td><td>0.06</td><td>nan</td><td>nan</td><td>nan</td><td>0</td></tr>\n",
       "<tr><td>31</td><td>G1.652-0.052</td><td>1.652</td><td>-0.052</td><td>50</td><td>6</td><td>3.7</td><td>0.94</td><td>-114.32</td><td>6.47</td><td>-0.8</td><td>0.11</td><td>nan</td><td>nan</td><td>nan</td><td>1</td></tr>\n",
       "</table></div>"
      ],
      "text/plain": [
       "<Table length=47>\n",
       "leaf_id   cloud_name      l       b      v   sigma   rad   corr_coeff flux_diff flux_diff_stdv flux_ratio flux_ratio_stdv absorp_value NF_decision absorp_NF lb_pixel_mask\n",
       "  str3      str14      float64 float64 int64 int64 float64  float64    float64       str6       float64         str4        float64        str3      str32       int64    \n",
       "------- -------------- ------- ------- ----- ----- ------- ---------- --------- -------------- ---------- --------------- ------------ ----------- --------- -------------\n",
       "      1 G359.475-0.044  -0.525  -0.044  -102     6     4.3       0.26    -20.97          59.09       0.37            0.20          nan          LN       nan             1\n",
       "      2 G359.508-0.135  -0.492  -0.135   -56     9     8.7       0.38    -73.25          56.22       0.46            0.19          nan           N       nan             1\n",
       "      3 G359.561-0.001  -0.439  -0.001   -90     8     2.7       0.22    -59.31          23.73       0.38            0.09         2.15           U         F             1\n",
       "     4a G359.595-0.223  -0.405  -0.223   -27    13     4.6       0.43    -79.52          73.95       0.37            0.30          nan           N       nan             1\n",
       "     4b G359.595-0.223  -0.405  -0.223   -20     8     4.6       0.26    -78.19         101.97       0.36            0.42          nan          LN       nan             0\n",
       "      5 G359.608+0.018  -0.392   0.018   -78     5     2.0       0.18    -79.45          23.27       0.38            0.11         0.52          LN         N             1\n",
       "     6a G359.688-0.132  -0.312  -0.132   -29     5     5.6       0.62    -52.41          25.94        0.4            0.10          3.3          LN         F             0\n",
       "     6b G359.688-0.132  -0.312  -0.132   -21    12     5.6       0.28    -61.84          29.84       0.41            0.09         2.28           U         F             1\n",
       "     7a G359.701+0.032  -0.299   0.032   -73    11     2.4      -0.54    -96.86          32.34       0.46            0.12         0.36          LN         N             1\n",
       "     7b G359.701+0.032  -0.299   0.032   -37     5     2.4      -0.62     -91.8          29.91       0.47            0.13         1.88           U         N             0\n",
       "     8a G359.865+0.023  -0.135   0.023   -54     9     2.0      -0.05   -113.79          43.09       0.66            0.13          2.4           F         F             1\n",
       "    ...            ...     ...     ...   ...   ...     ...        ...       ...            ...        ...             ...          ...         ...       ...           ...\n",
       "    26a    G0.716-0.09   0.716   -0.09    28    15     5.7       0.32   -101.03          50.16      -0.17            0.47          nan           N       nan             1\n",
       "    26b    G0.716-0.09   0.716   -0.09    58    11     5.7       0.42   -105.37          30.69      -0.24            0.33          nan           N       nan             0\n",
       "     27   G0.816-0.185   0.816  -0.185    39    15     6.4        0.1   -117.03           7.36      -0.39            0.10          nan         nan       nan             1\n",
       "    28a   G0.888-0.044   0.888  -0.044    14    11     6.8      -0.94   -114.84           4.38      -0.23            0.04          nan         nan       nan             0\n",
       "    28b   G0.888-0.044   0.888  -0.044    26    30     6.8      -0.94   -114.84           4.38      -0.23            0.04          nan         nan       nan             0\n",
       "    28c   G0.888-0.044   0.888  -0.044    84     8     6.8       0.04   -113.75           8.38      -0.28            0.11          nan         nan       nan             1\n",
       "    29a   G1.075-0.049   1.075  -0.049    74     6     8.5      -0.23   -163.86         130.85       0.45            1.18          nan         nan       nan             0\n",
       "    29b   G1.075-0.049   1.075  -0.049    85    16     8.5      -0.01   -116.07         100.33      -0.13            0.93          nan         nan       nan             1\n",
       "    30a   G1.601+0.012   1.601   0.012    48     5     3.8       0.34   -117.92           2.81      -0.76            0.05          nan         nan       nan             1\n",
       "    30b   G1.601+0.012   1.601   0.012    58    11     3.8       0.15   -118.97           3.24      -0.74            0.06          nan         nan       nan             0\n",
       "     31   G1.652-0.052   1.652  -0.052    50     6     3.7       0.94   -114.32           6.47       -0.8            0.11          nan         nan       nan             1"
      ]
     },
     "execution_count": 42,
     "metadata": {},
     "output_type": "execute_result"
    }
   ],
   "source": [
    "### Construct new table \n",
    "\n",
    "synth_table = Table()\n",
    "synth_table['leaf_id'] = cat_index\n",
    "synth_table['cloud_name'] = cat['cloud_name']\n",
    "synth_table['l'] = l\n",
    "synth_table['b'] = b\n",
    "synth_table['v'] = v\n",
    "synth_table['sigma'] = sigma\n",
    "synth_table['rad'] = rad\n",
    "synth_table['corr_coeff'] = corr_coeff.round(2)\n",
    "synth_table['flux_diff'] = flux_diff.round(2)\n",
    "synth_table['flux_diff_stdv'] = flux_diff_std\n",
    "synth_table['flux_ratio'] = flux_ratio.round(2)\n",
    "synth_table['flux_ratio_stdv'] = flux_ratio_std\n",
    "synth_table['absorp_value'] = absorp_arr\n",
    "synth_table['NF_decision'] = NF_decision\n",
    "synth_table['absorp_NF'] = absorp_NF\n",
    "synth_table['lb_pixel_mask'] = lb_pixel_mask\n",
    "\n",
    "synth_table\n"
   ]
  },
  {
   "cell_type": "code",
   "execution_count": 43,
   "id": "a79572e0",
   "metadata": {},
   "outputs": [],
   "source": [
    "synth_table.write(\"/Users/danilipman/Documents/Research/UConn/CMZ_SYNTH/synth_table.tex\", overwrite=True)\n",
    "\n",
    "    \n"
   ]
  },
  {
   "cell_type": "code",
   "execution_count": 44,
   "id": "ca5121e1",
   "metadata": {},
   "outputs": [
    {
     "name": "stdout",
     "output_type": "stream",
     "text": [
      "17c 1.63\n"
     ]
    }
   ],
   "source": [
    "print(absorp_index[22], absorp_value[22])"
   ]
  },
  {
   "cell_type": "code",
   "execution_count": 45,
   "id": "54e3851d",
   "metadata": {},
   "outputs": [
    {
     "data": {
      "text/html": [
       "<i>Row index=16</i>\n",
       "<table id=\"table140412547484688\">\n",
       "<thead><tr><th>leaf_id</th><th>cloud_name</th><th>l</th><th>b</th><th>v</th><th>sigma</th><th>rad</th><th>corr_coeff</th><th>flux_diff</th><th>flux_diff_stdv</th><th>flux_ratio</th><th>flux_ratio_stdv</th><th>absorp_value</th><th>NF_decision</th><th>absorp_NF</th><th>lb_pixel_mask</th></tr></thead>\n",
       "<thead><tr><th>str3</th><th>str14</th><th>float64</th><th>float64</th><th>int64</th><th>int64</th><th>float64</th><th>float64</th><th>float64</th><th>str6</th><th>float64</th><th>str4</th><th>float64</th><th>str3</th><th>str32</th><th>int64</th></tr></thead>\n",
       "<tr><td>11b</td><td>G0.014-0.016</td><td>0.014</td><td>-0.016</td><td>45</td><td>9</td><td>3.4</td><td>-0.35</td><td>-177.87</td><td>101.24</td><td>0.92</td><td>0.19</td><td>2.8</td><td>F</td><td>nan</td><td>0</td></tr>\n",
       "</table>"
      ],
      "text/plain": [
       "<Row index=16>\n",
       "leaf_id  cloud_name     l       b      v   sigma   rad   corr_coeff flux_diff flux_diff_stdv flux_ratio flux_ratio_stdv absorp_value NF_decision absorp_NF lb_pixel_mask\n",
       "  str3     str14     float64 float64 int64 int64 float64  float64    float64       str6       float64         str4        float64        str3      str32       int64    \n",
       "------- ------------ ------- ------- ----- ----- ------- ---------- --------- -------------- ---------- --------------- ------------ ----------- --------- -------------\n",
       "    11b G0.014-0.016   0.014  -0.016    45     9     3.4      -0.35   -177.87         101.24       0.92            0.19          2.8           F       nan             0"
      ]
     },
     "execution_count": 45,
     "metadata": {},
     "output_type": "execute_result"
    }
   ],
   "source": [
    "synth_table[16]"
   ]
  },
  {
   "cell_type": "code",
   "execution_count": null,
   "id": "fc9b6f6c",
   "metadata": {},
   "outputs": [],
   "source": []
  }
 ],
 "metadata": {
  "kernelspec": {
   "display_name": "Python 3 (ipykernel)",
   "language": "python",
   "name": "python3"
  },
  "language_info": {
   "codemirror_mode": {
    "name": "ipython",
    "version": 3
   },
   "file_extension": ".py",
   "mimetype": "text/x-python",
   "name": "python",
   "nbconvert_exporter": "python",
   "pygments_lexer": "ipython3",
   "version": "3.9.13"
  }
 },
 "nbformat": 4,
 "nbformat_minor": 5
}

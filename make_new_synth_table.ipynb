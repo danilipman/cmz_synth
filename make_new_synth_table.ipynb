{
 "cells": [
  {
   "cell_type": "code",
   "execution_count": 2,
   "id": "b987d2f7",
   "metadata": {},
   "outputs": [],
   "source": [
    "import os\n",
    "import numpy as np\n",
    "import pandas as pd\n",
    "from astropy.io import fits\n",
    "from astropy.wcs import WCS\n",
    "from astropy.table import Table\n",
    "from numpy import linspace, array, logspace, sin, cos, pi, arange, sqrt, arctan2, arccos\n",
    "\n",
    "\n",
    "import astropy.io.fits as pyfits\n",
    "\n"
   ]
  },
  {
   "cell_type": "code",
   "execution_count": 71,
   "id": "5e08cdf6",
   "metadata": {},
   "outputs": [],
   "source": [
    "#Grab the existing table columns we want \n",
    "cat = Table.read('../3D_CMZ/LBV_plots_stuff/CMZ_cloud_catalogue_data.tex')\n",
    "absorp_tab = Table.read('../3D_CMZ/LBV_plots_stuff/absorption_table_merged.tex')\n",
    "\n",
    "absorp_NF_tab = pd.read_csv('../3D_CMZ/LBV_plots_stuff/paper3_agreement_catalogue.txt',sep=',',\n",
    "                            usecols=[0,1,2,3,4], names=['i', 'l', 'b', 'v', 'NF'],\n",
    "                            header=None, index_col=False)\n",
    "\n",
    "\n",
    "cat_index = cat['index']\n",
    "cloud_list = cat['cloud_name']\n",
    "l = cat['l']\n",
    "b = cat['b']\n",
    "v = cat['v']\n",
    "sigma = cat['sigma']\n",
    "rad = cat['rad']\n",
    "NF_decision = cat['NF_decision']\n",
    "\n",
    "lb_pixel_mask = cat['lb_pixel_mask']\n",
    "\n",
    "corr_coeff = cat['r_p_max']\n",
    "flux_diff = cat['flux_diff_max']\n",
    "flux_ratio = cat['flux_ratio_max']\n",
    "\n",
    "absorp_value = absorp_tab['fraction_value_peak_mask']\n",
    "absorp_index = absorp_tab['leaf_id']"
   ]
  },
  {
   "cell_type": "code",
   "execution_count": 86,
   "id": "2f6e4ed8",
   "metadata": {},
   "outputs": [
    {
     "name": "stderr",
     "output_type": "stream",
     "text": [
      "/var/folders/4b/_cshhy012yj8k_187jxt881r0000gn/T/ipykernel_70390/3162031848.py:1: SettingWithCopyWarning: \n",
      "A value is trying to be set on a copy of a slice from a DataFrame\n",
      "\n",
      "See the caveats in the documentation: https://pandas.pydata.org/pandas-docs/stable/user_guide/indexing.html#returning-a-view-versus-a-copy\n",
      "  absorp_NF_tab['NF'][np.where(absorp_NF_tab['NF']=='Far')[0]] = 'F'\n",
      "/var/folders/4b/_cshhy012yj8k_187jxt881r0000gn/T/ipykernel_70390/3162031848.py:2: SettingWithCopyWarning: \n",
      "A value is trying to be set on a copy of a slice from a DataFrame\n",
      "\n",
      "See the caveats in the documentation: https://pandas.pydata.org/pandas-docs/stable/user_guide/indexing.html#returning-a-view-versus-a-copy\n",
      "  absorp_NF_tab['NF'][np.where(absorp_NF_tab['NF']=='Near')[0]] = 'N'\n"
     ]
    }
   ],
   "source": [
    "absorp_NF_tab['NF'][np.where(absorp_NF_tab['NF']=='Far')[0]] = 'F'\n",
    "absorp_NF_tab['NF'][np.where(absorp_NF_tab['NF']=='Near')[0]] = 'N'\n",
    "\n",
    "NF_absorp = absorp_NF_tab['NF'].values"
   ]
  },
  {
   "cell_type": "code",
   "execution_count": 90,
   "id": "d10ee49b",
   "metadata": {},
   "outputs": [],
   "source": [
    "###just need this file for the multi-comp clouds\n",
    "large_cat = Table.read('../3D_CMZ/LBV_plots_stuff/CMZ_cloud_catalogue_data.csv')\n",
    "large_cat_index = large_cat['index']\n",
    "large_cat_v = large_cat['v']"
   ]
  },
  {
   "cell_type": "code",
   "execution_count": 91,
   "id": "1e8e3f36",
   "metadata": {},
   "outputs": [],
   "source": [
    "### For the stddevs, we need to find them for both the single \n",
    "### and multi-component clouds separately \n",
    "### then combine into the table \n",
    "\n",
    "#Find single v component clouds\n",
    "single_v = {x for x in list(cloud_list) if list(cloud_list).count(x) == 1}\n",
    "\n",
    "\n",
    "sing_index =[]\n",
    "for i in range(len(cloud_list)):\n",
    "    if cloud_list[i] in single_v:\n",
    "        sing_index.append(i)\n",
    "        \n",
    "\n",
    "#find indexes with multiple velocities \n",
    "dup = {x for x in list(cloud_list) if list(cloud_list).count(x) > 1}\n",
    "\n",
    "dup_index =[]\n",
    "for i in range(len(cloud_list)):\n",
    "    if cloud_list[i] in dup:\n",
    "        dup_index.append(i)\n",
    "        \n",
    "id_v_list = []\n",
    "for i in range(len(large_cat_index)):\n",
    "    id_v_list.append('{}_{}'.format(large_cat_index[i], large_cat_v[i]))"
   ]
  },
  {
   "cell_type": "code",
   "execution_count": 92,
   "id": "fe5e289f",
   "metadata": {},
   "outputs": [
    {
     "name": "stderr",
     "output_type": "stream",
     "text": [
      "/opt/anaconda3/lib/python3.9/site-packages/numpy/lib/nanfunctions.py:1879: RuntimeWarning: Degrees of freedom <= 0 for slice.\n",
      "  var = nanvar(a, axis=axis, dtype=dtype, out=out, ddof=ddof,\n"
     ]
    }
   ],
   "source": [
    "flux_ratio_std = []\n",
    "flux_diff_std = []\n",
    "\n",
    "for i in range(len(cat_index)):\n",
    "    if cat_index[i] in cat_index[sing_index]:\n",
    "        cloud = cloud_list[i]\n",
    "        \n",
    "        cloud_flux_diff = pyfits.open('../3D_CMZ/Cloud_masks/{}/{}_flux_diff.fits'.format(cloud, cloud))[0].data\n",
    "        fdiff_std = np.abs(np.nanstd(cloud_flux_diff))\n",
    "        flux_diff_std.append('{:.2f}'.format(np.round(fdiff_std,2)))\n",
    "\n",
    "        cloud_flux_ratio = pyfits.open('../3D_CMZ/Cloud_masks/{}/{}_flux_ratio.fits'.format(cloud, cloud))[0].data\n",
    "        fratio_std = np.abs(np.nanstd(cloud_flux_ratio))\n",
    "        flux_ratio_std.append('{:.2f}'.format(np.round(fratio_std,2)))\n",
    "        \n",
    "    if cat_index[i] in cat_index[dup_index]:\n",
    "        cloud_flux_diff = pyfits.open('../3D_CMZ/Sub_masks/{}/max_submask/{}_{}_flux_diff_maxcutout_isolated.fits'.format(large_cat_index[i], large_cat_index[i],large_cat_v[i] ))[0].data\n",
    "        fdiff_std = np.abs(np.nanstd(cloud_flux_diff))\n",
    "        flux_diff_std.append('{:.2f}'.format(np.round(fdiff_std,2)))\n",
    "\n",
    "        cloud_flux_ratio = pyfits.open('../3D_CMZ/Sub_masks/{}/max_submask/{}_{}_flux_ratio_maxcutout_isolated.fits'.format(large_cat_index[i], large_cat_index[i],large_cat_v[i] ))[0].data\n",
    "        fratio_std = np.abs(np.nanstd(cloud_flux_ratio))\n",
    "        flux_ratio_std.append('{:.2f}'.format(np.round(fratio_std,2)))"
   ]
  },
  {
   "cell_type": "code",
   "execution_count": 102,
   "id": "33e6abbb",
   "metadata": {},
   "outputs": [],
   "source": [
    "### absorption table only has the ids with measurement available\n",
    "\n",
    "#create nan array with size equal to 'index'\n",
    "absorp_arr = []\n",
    "absorp_NF = []\n",
    "\n",
    "#fill in where indices match. Make nan where no match.\n",
    "for i in cat_index:\n",
    "    if i in absorp_index:\n",
    "        if i =='16a': #16a is an empty mask. replace with nan\n",
    "            absorp_arr.append(np.nan)\n",
    "        else: \n",
    "            absorp_arr.append(absorp_value[np.where(absorp_index==str(i))[0][0]])\n",
    "    else: \n",
    "        absorp_arr.append(np.nan)\n",
    "        \n",
    "for i in cat_index:\n",
    "    if i in absorp_NF_tab['i'].values:\n",
    "        if i =='16a': #16a is an empty mask. replace with nan\n",
    "            absorp_NF.append(np.nan)\n",
    "        else: \n",
    "            absorp_NF.append(absorp_NF_tab['NF'][np.where(absorp_NF_tab['i']==str(i))[0][0]])\n",
    "    else: \n",
    "        absorp_NF.append(np.nan)\n"
   ]
  },
  {
   "cell_type": "code",
   "execution_count": 104,
   "id": "0a8ad358",
   "metadata": {},
   "outputs": [
    {
     "data": {
      "text/html": [
       "<div><i>Table length=47</i>\n",
       "<table id=\"table140607845409840\" class=\"table-striped table-bordered table-condensed\">\n",
       "<thead><tr><th>leaf_id</th><th>cloud_name</th><th>l</th><th>b</th><th>v</th><th>sigma</th><th>rad</th><th>corr_coeff</th><th>flux_diff</th><th>flux_diff_stdv</th><th>flux_ratio</th><th>flux_ratio_stdv</th><th>absorp_value</th><th>NF_decision</th><th>absorp_NF</th><th>lb_pixel_mask</th></tr></thead>\n",
       "<thead><tr><th>str3</th><th>str14</th><th>float64</th><th>float64</th><th>int64</th><th>int64</th><th>float64</th><th>float64</th><th>float64</th><th>str6</th><th>float64</th><th>str4</th><th>float64</th><th>str3</th><th>str32</th><th>int64</th></tr></thead>\n",
       "<tr><td>1</td><td>G359.475-0.044</td><td>-0.525</td><td>-0.044</td><td>-102</td><td>6</td><td>4.3</td><td>0.26</td><td>31.67</td><td>59.09</td><td>0.51</td><td>0.20</td><td>nan</td><td>LN</td><td>nan</td><td>1</td></tr>\n",
       "<tr><td>2</td><td>G359.508-0.135</td><td>-0.492</td><td>-0.135</td><td>-56</td><td>9</td><td>8.7</td><td>0.38</td><td>-20.61</td><td>56.22</td><td>0.62</td><td>0.19</td><td>nan</td><td>N</td><td>nan</td><td>1</td></tr>\n",
       "<tr><td>3</td><td>G359.561-0.001</td><td>-0.439</td><td>-0.001</td><td>-90</td><td>8</td><td>2.7</td><td>0.22</td><td>-6.67</td><td>23.73</td><td>0.55</td><td>0.09</td><td>2.15</td><td>U</td><td>F</td><td>1</td></tr>\n",
       "<tr><td>4a</td><td>G359.595-0.223</td><td>-0.405</td><td>-0.223</td><td>-27</td><td>13</td><td>4.6</td><td>0.43</td><td>-26.88</td><td>73.95</td><td>0.57</td><td>0.30</td><td>nan</td><td>N</td><td>nan</td><td>1</td></tr>\n",
       "<tr><td>4b</td><td>G359.595-0.223</td><td>-0.405</td><td>-0.223</td><td>-20</td><td>8</td><td>4.6</td><td>0.26</td><td>-25.56</td><td>101.97</td><td>0.56</td><td>0.42</td><td>nan</td><td>LN</td><td>nan</td><td>0</td></tr>\n",
       "<tr><td>...</td><td>...</td><td>...</td><td>...</td><td>...</td><td>...</td><td>...</td><td>...</td><td>...</td><td>...</td><td>...</td><td>...</td><td>...</td><td>...</td><td>...</td><td>...</td></tr>\n",
       "<tr><td>29a</td><td>G1.075-0.049</td><td>1.075</td><td>-0.049</td><td>74</td><td>6</td><td>8.5</td><td>-0.23</td><td>-111.22</td><td>130.85</td><td>0.87</td><td>1.17</td><td>nan</td><td>nan</td><td>nan</td><td>0</td></tr>\n",
       "<tr><td>29b</td><td>G1.075-0.049</td><td>1.075</td><td>-0.049</td><td>85</td><td>16</td><td>8.5</td><td>-0.01</td><td>-63.43</td><td>100.33</td><td>0.33</td><td>0.91</td><td>nan</td><td>nan</td><td>nan</td><td>1</td></tr>\n",
       "<tr><td>30a</td><td>G1.601+0.012</td><td>1.601</td><td>0.012</td><td>48</td><td>5</td><td>3.8</td><td>0.34</td><td>-65.28</td><td>2.81</td><td>-0.01</td><td>0.04</td><td>nan</td><td>nan</td><td>nan</td><td>1</td></tr>\n",
       "<tr><td>30b</td><td>G1.601+0.012</td><td>1.601</td><td>0.012</td><td>58</td><td>11</td><td>3.8</td><td>0.15</td><td>-66.33</td><td>3.24</td><td>0.01</td><td>0.05</td><td>nan</td><td>nan</td><td>nan</td><td>0</td></tr>\n",
       "<tr><td>31</td><td>G1.652-0.052</td><td>1.652</td><td>-0.052</td><td>50</td><td>6</td><td>3.7</td><td>0.94</td><td>-61.68</td><td>6.47</td><td>-0.06</td><td>0.11</td><td>nan</td><td>nan</td><td>nan</td><td>1</td></tr>\n",
       "</table></div>"
      ],
      "text/plain": [
       "<Table length=47>\n",
       "leaf_id   cloud_name      l       b      v   sigma   rad   corr_coeff ... flux_diff_stdv flux_ratio flux_ratio_stdv absorp_value NF_decision absorp_NF lb_pixel_mask\n",
       "  str3      str14      float64 float64 int64 int64 float64  float64   ...      str6       float64         str4        float64        str3      str32       int64    \n",
       "------- -------------- ------- ------- ----- ----- ------- ---------- ... -------------- ---------- --------------- ------------ ----------- --------- -------------\n",
       "      1 G359.475-0.044  -0.525  -0.044  -102     6     4.3       0.26 ...          59.09       0.51            0.20          nan          LN       nan             1\n",
       "      2 G359.508-0.135  -0.492  -0.135   -56     9     8.7       0.38 ...          56.22       0.62            0.19          nan           N       nan             1\n",
       "      3 G359.561-0.001  -0.439  -0.001   -90     8     2.7       0.22 ...          23.73       0.55            0.09         2.15           U         F             1\n",
       "     4a G359.595-0.223  -0.405  -0.223   -27    13     4.6       0.43 ...          73.95       0.57            0.30          nan           N       nan             1\n",
       "     4b G359.595-0.223  -0.405  -0.223   -20     8     4.6       0.26 ...         101.97       0.56            0.42          nan          LN       nan             0\n",
       "    ...            ...     ...     ...   ...   ...     ...        ... ...            ...        ...             ...          ...         ...       ...           ...\n",
       "    29a   G1.075-0.049   1.075  -0.049    74     6     8.5      -0.23 ...         130.85       0.87            1.17          nan         nan       nan             0\n",
       "    29b   G1.075-0.049   1.075  -0.049    85    16     8.5      -0.01 ...         100.33       0.33            0.91          nan         nan       nan             1\n",
       "    30a   G1.601+0.012   1.601   0.012    48     5     3.8       0.34 ...           2.81      -0.01            0.04          nan         nan       nan             1\n",
       "    30b   G1.601+0.012   1.601   0.012    58    11     3.8       0.15 ...           3.24       0.01            0.05          nan         nan       nan             0\n",
       "     31   G1.652-0.052   1.652  -0.052    50     6     3.7       0.94 ...           6.47      -0.06            0.11          nan         nan       nan             1"
      ]
     },
     "execution_count": 104,
     "metadata": {},
     "output_type": "execute_result"
    }
   ],
   "source": [
    "### Construct new table \n",
    "\n",
    "synth_table = Table()\n",
    "synth_table['leaf_id'] = cat_index\n",
    "synth_table['cloud_name'] = cat['cloud_name']\n",
    "synth_table['l'] = l\n",
    "synth_table['b'] = b\n",
    "synth_table['v'] = v\n",
    "synth_table['sigma'] = sigma\n",
    "synth_table['rad'] = rad\n",
    "synth_table['corr_coeff'] = corr_coeff.round(2)\n",
    "synth_table['flux_diff'] = flux_diff.round(2)\n",
    "synth_table['flux_diff_stdv'] = flux_diff_std\n",
    "synth_table['flux_ratio'] = flux_ratio.round(2)\n",
    "synth_table['flux_ratio_stdv'] = flux_ratio_std\n",
    "synth_table['absorp_value'] = absorp_arr\n",
    "synth_table['NF_decision'] = NF_decision\n",
    "synth_table['absorp_NF'] = absorp_NF\n",
    "synth_table['lb_pixel_mask'] = lb_pixel_mask\n",
    "\n",
    "synth_table\n"
   ]
  },
  {
   "cell_type": "code",
   "execution_count": 105,
   "id": "a79572e0",
   "metadata": {},
   "outputs": [],
   "source": [
    "synth_table.write(\"/Users/danilipman/Documents/Research/UConn/CMZ_SYNTH/synth_table.tex\", overwrite=True)\n",
    "\n",
    "    \n"
   ]
  },
  {
   "cell_type": "code",
   "execution_count": 106,
   "id": "ca5121e1",
   "metadata": {},
   "outputs": [
    {
     "name": "stdout",
     "output_type": "stream",
     "text": [
      "17c 1.63\n"
     ]
    }
   ],
   "source": [
    "print(absorp_index[22], absorp_value[22])"
   ]
  },
  {
   "cell_type": "code",
   "execution_count": 111,
   "id": "54e3851d",
   "metadata": {},
   "outputs": [
    {
     "data": {
      "text/html": [
       "<i>Row index=16</i>\n",
       "<table id=\"table140607845409840\">\n",
       "<thead><tr><th>leaf_id</th><th>cloud_name</th><th>l</th><th>b</th><th>v</th><th>sigma</th><th>rad</th><th>corr_coeff</th><th>flux_diff</th><th>flux_diff_stdv</th><th>flux_ratio</th><th>flux_ratio_stdv</th><th>absorp_value</th><th>NF_decision</th><th>absorp_NF</th><th>lb_pixel_mask</th></tr></thead>\n",
       "<thead><tr><th>str3</th><th>str14</th><th>float64</th><th>float64</th><th>int64</th><th>int64</th><th>float64</th><th>float64</th><th>float64</th><th>str6</th><th>float64</th><th>str4</th><th>float64</th><th>str3</th><th>str32</th><th>int64</th></tr></thead>\n",
       "<tr><td>11b</td><td>G0.014-0.016</td><td>0.014</td><td>-0.016</td><td>45</td><td>9</td><td>3.4</td><td>-0.35</td><td>-125.23</td><td>101.24</td><td>1.0</td><td>0.19</td><td>2.8</td><td>F</td><td>nan</td><td>0</td></tr>\n",
       "</table>"
      ],
      "text/plain": [
       "<Row index=16>\n",
       "leaf_id  cloud_name     l       b      v   sigma   rad   corr_coeff flux_diff flux_diff_stdv flux_ratio flux_ratio_stdv absorp_value NF_decision absorp_NF lb_pixel_mask\n",
       "  str3     str14     float64 float64 int64 int64 float64  float64    float64       str6       float64         str4        float64        str3      str32       int64    \n",
       "------- ------------ ------- ------- ----- ----- ------- ---------- --------- -------------- ---------- --------------- ------------ ----------- --------- -------------\n",
       "    11b G0.014-0.016   0.014  -0.016    45     9     3.4      -0.35   -125.23         101.24        1.0            0.19          2.8           F       nan             0"
      ]
     },
     "execution_count": 111,
     "metadata": {},
     "output_type": "execute_result"
    }
   ],
   "source": [
    "synth_table[16]"
   ]
  },
  {
   "cell_type": "code",
   "execution_count": null,
   "id": "fc9b6f6c",
   "metadata": {},
   "outputs": [],
   "source": []
  }
 ],
 "metadata": {
  "kernelspec": {
   "display_name": "Python 3 (ipykernel)",
   "language": "python",
   "name": "python3"
  },
  "language_info": {
   "codemirror_mode": {
    "name": "ipython",
    "version": 3
   },
   "file_extension": ".py",
   "mimetype": "text/x-python",
   "name": "python",
   "nbconvert_exporter": "python",
   "pygments_lexer": "ipython3",
   "version": "3.9.13"
  }
 },
 "nbformat": 4,
 "nbformat_minor": 5
}

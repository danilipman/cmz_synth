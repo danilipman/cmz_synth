{
 "cells": [
  {
   "cell_type": "code",
   "execution_count": 24,
   "id": "f96295a5",
   "metadata": {},
   "outputs": [
    {
     "data": {
      "text/html": [
       "<style>.container { width:100% !important; }</style>"
      ],
      "text/plain": [
       "<IPython.core.display.HTML object>"
      ]
     },
     "metadata": {},
     "output_type": "display_data"
    }
   ],
   "source": [
    "from IPython.display import display, HTML\n",
    "display(HTML(\"<style>.container { width:100% !important; }</style>\"))"
   ]
  },
  {
   "cell_type": "code",
   "execution_count": 25,
   "id": "c453f5d1",
   "metadata": {},
   "outputs": [],
   "source": [
    "import pylab as pl\n",
    "import numpy as np\n",
    "import matplotlib.colors as mc\n",
    "import matplotlib as mpl\n",
    "from matplotlib import rc\n",
    "from matplotlib import cm\n",
    "from matplotlib.patches import Polygon\n",
    "from mpl_toolkits.axes_grid1 import make_axes_locatable\n",
    "import matplotlib.axes as maxes\n",
    "\n",
    "\n",
    "from numpy import pi, sqrt, cos, sin, arctan2, linspace, log, exp, sinh, arcsinh\n",
    "import astropy.io.fits as pyfits \n",
    "from scipy.spatial.distance import cdist\n",
    "from coords import *\n",
    "\n",
    "import scipy.integrate as integrate\n",
    "from scipy import special\n",
    "import warnings\n",
    "warnings.filterwarnings('ignore')\n",
    "\n",
    "\n",
    "#rc('text', usetex=True)"
   ]
  },
  {
   "cell_type": "code",
   "execution_count": null,
   "id": "cc71dc9d",
   "metadata": {},
   "outputs": [],
   "source": []
  },
  {
   "cell_type": "code",
   "execution_count": 26,
   "id": "a3e129cd",
   "metadata": {},
   "outputs": [],
   "source": [
    "data = np.loadtxt('Star-Map_-10.5_wCC-ISAAC_J2000_comp.dat')\n"
   ]
  },
  {
   "cell_type": "markdown",
   "id": "6b667042",
   "metadata": {},
   "source": [
    "# Star Counts"
   ]
  },
  {
   "cell_type": "code",
   "execution_count": 27,
   "id": "dee8530b",
   "metadata": {},
   "outputs": [],
   "source": [
    "\n",
    "l_data  = data[:,0]\n",
    "b_data  = data[:,1] \n",
    "lstar   = data[:,2]  \n",
    "bstar   = data[:,3] \n",
    "N       = data[:,4] \n",
    "N_error = data[:,5] \n",
    "RA      = data[:,6] \n",
    "DE      = data[:,7]\n",
    "\n",
    "Nl, Nb = 421, 181\n",
    "\n",
    "l       = l_data.reshape(Nl,Nb)\n",
    "b       = b_data.reshape(Nl,Nb)\n",
    "lstar   = lstar.reshape(Nl,Nb)\n",
    "bstar   = bstar.reshape(Nl,Nb)\n",
    "N       = N.reshape(Nl,Nb)\n",
    "N_error = N_error.reshape(Nl,Nb)\n",
    "RA      = RA.reshape(Nl,Nb)\n",
    "DE      = DE.reshape(Nl,Nb)"
   ]
  },
  {
   "cell_type": "code",
   "execution_count": 28,
   "id": "cd82e1c6",
   "metadata": {},
   "outputs": [
    {
     "data": {
      "text/plain": [
       "np.float64(1.0001999999999978)"
      ]
     },
     "execution_count": 28,
     "metadata": {},
     "output_type": "execute_result"
    }
   ],
   "source": [
    "(b[0][0] - b[0][1])  * 60"
   ]
  },
  {
   "cell_type": "code",
   "execution_count": 29,
   "id": "fcf125b7",
   "metadata": {},
   "outputs": [
    {
     "data": {
      "text/plain": [
       "np.float64(0.9995999999999938)"
      ]
     },
     "execution_count": 29,
     "metadata": {},
     "output_type": "execute_result"
    }
   ],
   "source": [
    "(b[0][-2]-b[0][-1]) *60"
   ]
  },
  {
   "cell_type": "markdown",
   "id": "8f91036a",
   "metadata": {},
   "source": [
    "# Stellar Densities"
   ]
  },
  {
   "cell_type": "code",
   "execution_count": 30,
   "id": "cd3e952f",
   "metadata": {},
   "outputs": [],
   "source": [
    "## Galactic bulge model from Gallego-Cano 2020\n",
    "# using fixed input params from Launhardt+2002 \n",
    "# some stuff based on Dwek+1995\n",
    "## Converted to stellar density \n",
    "# Launhardt et al. 2002 Bar density\n",
    "\n",
    "\n",
    "def Calc_L02_Bar_rho(s,l,b):\n",
    "    l = np.deg2rad(l+0.056)\n",
    "    b = np.deg2rad(b+0.046)\n",
    "    D = 8.2 #8.5kpc used in GC2020, we will probably want 8.2\n",
    "    x = -s * cos(b) * sin(l)\n",
    "    y = (s * cos(b) * cos(l)) - D \n",
    "    z = s * sin(b) \n",
    "      \n",
    "\n",
    "    rho0  = 0.8\n",
    "    N0    = 9.90 #stars arcmin-2\n",
    "    ax    = 1.1 #kpc\n",
    "    ay    = 0.36 #kpc\n",
    "    az    = 0.22 #kpc\n",
    "    Cperp = 1.6 #face on param\n",
    "    Cpar  = 3.2 #edge on param\n",
    "    #Rperp = ((np.abs(x)/ax)**Cperp + (np.abs(y)/ay)**Cperp)**(1.0/Cperp)\n",
    "    #Rs    = (Rperp**Cpar + (np.abs(z)/az)**Cpar)**(1.0/Cpar)\n",
    "    Rs    = (np.abs(x)/ax)**Cperp + (np.abs(y)/ay)**Cperp + (np.abs(z)/az)**Cpar\n",
    "    rho   = np.exp(-Rs) ## volume emissivity\n",
    "    \n",
    "    return rho\n",
    "    \n",
    "\n",
    "'''   \n",
    "FUNCTION EMISS,is\n",
    "  common launh, ix,iy,ax,ay,az, c1, c2,D,cenx,ceny\n",
    "  \n",
    "  ;; Describes the volumen emissivity \"r0\" with a exponential ;;\n",
    "  ;; model (Dwek+1995, Freudenreich+1998, Launhardt+2002) ;;\n",
    "\n",
    "  ;; {x,y,z} coordinate system centered on the GC ;;\n",
    "  ;; {l,b} Galactic coordinates ;;\n",
    "  ;; Convert {x,y,z} coord into Galactic coord ;;\n",
    "  ;; ix and iy are {l,b} in degree. I convert to radians ;;\n",
    "  ;; \"is\" is the distance from the observer (line of sight) ;;\n",
    "\n",
    "  x = -is*cos(iy*2*!Pi/360.0)*sin(ix*2*!Pi/360.0)\n",
    "  y = is*cos(iy*2*!Pi/360.0)*cos(ix*2*!Pi/360.0)-D\n",
    "  z = is*sin(iy*2*!Pi/360.0)\n",
    "  \n",
    "  ;; Efective radius ;;\n",
    "  Rs = (abs(x/ax))^c1+(abs(y/ay))^c1+(abs(z/az))^c2\n",
    "  \n",
    "  ;; ax, ay, az are the scale lenghts ;;\n",
    "  ;; c1, c2 are teh face-on and edge-on parameteres ;;\n",
    "\n",
    "  return, exp(-Rs)\n",
    "END\n",
    "'''\n",
    "\n",
    "\n",
    "## NSD model from Gallego-Cano 2020, eq. 3\n",
    "## Converted to stellar density \n",
    "def NSD_GC20(l,b):\n",
    "    l = np.deg2rad(l+0.056)\n",
    "    b = np.deg2rad(b+0.046)\n",
    "    x,y,z,vx,vy,vz = lbr2xyz(l,b,8.2,0,0,0) # X points to GC, y and z are the projected plane\n",
    "    \n",
    "    x = y * 1e3 # pc\n",
    "    y = z * 1e3 # pc\n",
    "\n",
    "    R_e   = 116.2 # ± 0.6 [pc] #Effective radius\n",
    "    I_e   = 19.84 # ± 0.16 stars arcmin−2 #Stellar number density at R_e \n",
    "    n     = 0.782#0.782 # ± 0.008\n",
    "    q     = 0.338 # ± 0.002 #ratio between minor and major axis\n",
    "    b_n   = 1.9992*n - 0.32 #function of the Sérsic index n\n",
    "    p     = np.sqrt((x)**2 + ((y)/q)**2)\n",
    "    \n",
    "    f     = ((p/R_e)**(1./n) ) -1\n",
    "\n",
    "    return  I_e * np.exp(-b_n*f) \n",
    "\n",
    "\n",
    "\n",
    "\n",
    "## NSC model \n",
    "  # Chatzopoulos et al. 2015 NSC density; only important for central 10pc\n",
    "  # https://academic.oup.com/mnras/article/447/1/948/990143#26099884\n",
    "def Calc_C15_NSC_rho(l,b,r):\n",
    "    gamma = 0.71    # dimensionless\n",
    "    q     = 0.73    # dimensionless\n",
    "    a0    = 0.0059  # kpc\n",
    "    M     = 0.0061  # 10^10Msun\n",
    "    x,y,z,vx,vy,vz = lbr2xyz(l,b,r,0,0,0)\n",
    "    print(x,y,z)\n",
    "    a     = sqrt(x**2+y**2+(z/q)**2)\n",
    "    print(a)\n",
    "    r_mask = (a<0.01) & (a !=  0)\n",
    "    rho = np.zeros_like(a) ## this gives you an array of zeros shaped like a\n",
    "    rho[r_mask] = (3.0-gamma)*M/(4*pi*q)*a0/((a[r_mask]**gamma)*((a[r_mask]+a0)**(4.0-gamma)))\n",
    "    return rho  \n",
    "\n"
   ]
  },
  {
   "cell_type": "code",
   "execution_count": 31,
   "id": "5e6af28c",
   "metadata": {},
   "outputs": [
    {
     "name": "stdout",
     "output_type": "stream",
     "text": [
      "-0.22094364506704345 -0.4454084371247497 -0.3691490335109969\n",
      "0.7091690074315918\n"
     ]
    },
    {
     "data": {
      "text/plain": [
       "array(0.)"
      ]
     },
     "execution_count": 31,
     "metadata": {},
     "output_type": "execute_result"
    }
   ],
   "source": [
    "#Calc_L02_Bar_rho(8.2,0.056,0.046)\n",
    "\n",
    "Calc_C15_NSC_rho(359.94423568-360,-0.04616002,8.)"
   ]
  },
  {
   "cell_type": "code",
   "execution_count": 32,
   "id": "bf7a4927",
   "metadata": {},
   "outputs": [
    {
     "data": {
      "text/plain": [
       "12.765307676154139"
      ]
     },
     "execution_count": 32,
     "metadata": {},
     "output_type": "execute_result"
    }
   ],
   "source": [
    "integrate.quad(Calc_L02_Bar_rho, 0, np.inf, args=(0.056,0.046))[0] * 2*N0"
   ]
  },
  {
   "cell_type": "code",
   "execution_count": 33,
   "id": "a4445e80",
   "metadata": {},
   "outputs": [
    {
     "ename": "KeyboardInterrupt",
     "evalue": "",
     "output_type": "error",
     "traceback": [
      "\u001b[31m---------------------------------------------------------------------------\u001b[39m",
      "\u001b[31mKeyboardInterrupt\u001b[39m                         Traceback (most recent call last)",
      "\u001b[36mCell\u001b[39m\u001b[36m \u001b[39m\u001b[32mIn[33]\u001b[39m\u001b[32m, line 12\u001b[39m\n\u001b[32m     10\u001b[39m \u001b[38;5;28;01mfor\u001b[39;00m i \u001b[38;5;129;01min\u001b[39;00m \u001b[38;5;28mrange\u001b[39m(Nl):\n\u001b[32m     11\u001b[39m     \u001b[38;5;28;01mfor\u001b[39;00m j \u001b[38;5;129;01min\u001b[39;00m \u001b[38;5;28mrange\u001b[39m(Nb):\n\u001b[32m---> \u001b[39m\u001b[32m12\u001b[39m         I = \u001b[43mintegrate\u001b[49m\u001b[43m.\u001b[49m\u001b[43mquad\u001b[49m\u001b[43m(\u001b[49m\u001b[43mCalc_L02_Bar_rho\u001b[49m\u001b[43m,\u001b[49m\u001b[43m \u001b[49m\u001b[32;43m0\u001b[39;49m\u001b[43m,\u001b[49m\u001b[43m \u001b[49m\u001b[43mnp\u001b[49m\u001b[43m.\u001b[49m\u001b[43minf\u001b[49m\u001b[43m,\u001b[49m\u001b[43m \u001b[49m\u001b[43margs\u001b[49m\u001b[43m=\u001b[49m\u001b[43m(\u001b[49m\u001b[43ml\u001b[49m\u001b[43m[\u001b[49m\u001b[43mi\u001b[49m\u001b[43m]\u001b[49m\u001b[43m[\u001b[49m\u001b[43mj\u001b[49m\u001b[43m]\u001b[49m\u001b[43m,\u001b[49m\u001b[43mb\u001b[49m\u001b[43m[\u001b[49m\u001b[43mi\u001b[49m\u001b[43m]\u001b[49m\u001b[43m[\u001b[49m\u001b[43mj\u001b[49m\u001b[43m]\u001b[49m\u001b[43m)\u001b[49m\u001b[43m)\u001b[49m\n\u001b[32m     13\u001b[39m         N0 = \u001b[32m9.90\u001b[39m \u001b[38;5;66;03m#stars arcmin-2\u001b[39;00m\n\u001b[32m     14\u001b[39m         star_rho = \u001b[32m2\u001b[39m*N0*I[\u001b[32m0\u001b[39m] \u001b[38;5;66;03m## convert to brightness, and then multiply by a stellar density factor (See Gallego-Cano 2020 eq. 2)\u001b[39;00m\n",
      "\u001b[36mFile \u001b[39m\u001b[32m/opt/anaconda3/envs/python3_13/lib/python3.13/site-packages/scipy/integrate/_quadpack_py.py:459\u001b[39m, in \u001b[36mquad\u001b[39m\u001b[34m(func, a, b, args, full_output, epsabs, epsrel, limit, points, weight, wvar, wopts, maxp1, limlst, complex_func)\u001b[39m\n\u001b[32m    456\u001b[39m     \u001b[38;5;28;01mreturn\u001b[39;00m retval\n\u001b[32m    458\u001b[39m \u001b[38;5;28;01mif\u001b[39;00m weight \u001b[38;5;129;01mis\u001b[39;00m \u001b[38;5;28;01mNone\u001b[39;00m:\n\u001b[32m--> \u001b[39m\u001b[32m459\u001b[39m     retval = \u001b[43m_quad\u001b[49m\u001b[43m(\u001b[49m\u001b[43mfunc\u001b[49m\u001b[43m,\u001b[49m\u001b[43m \u001b[49m\u001b[43ma\u001b[49m\u001b[43m,\u001b[49m\u001b[43m \u001b[49m\u001b[43mb\u001b[49m\u001b[43m,\u001b[49m\u001b[43m \u001b[49m\u001b[43margs\u001b[49m\u001b[43m,\u001b[49m\u001b[43m \u001b[49m\u001b[43mfull_output\u001b[49m\u001b[43m,\u001b[49m\u001b[43m \u001b[49m\u001b[43mepsabs\u001b[49m\u001b[43m,\u001b[49m\u001b[43m \u001b[49m\u001b[43mepsrel\u001b[49m\u001b[43m,\u001b[49m\u001b[43m \u001b[49m\u001b[43mlimit\u001b[49m\u001b[43m,\u001b[49m\n\u001b[32m    460\u001b[39m \u001b[43m                   \u001b[49m\u001b[43mpoints\u001b[49m\u001b[43m)\u001b[49m\n\u001b[32m    461\u001b[39m \u001b[38;5;28;01melse\u001b[39;00m:\n\u001b[32m    462\u001b[39m     \u001b[38;5;28;01mif\u001b[39;00m points \u001b[38;5;129;01mis\u001b[39;00m \u001b[38;5;129;01mnot\u001b[39;00m \u001b[38;5;28;01mNone\u001b[39;00m:\n",
      "\u001b[36mFile \u001b[39m\u001b[32m/opt/anaconda3/envs/python3_13/lib/python3.13/site-packages/scipy/integrate/_quadpack_py.py:608\u001b[39m, in \u001b[36m_quad\u001b[39m\u001b[34m(func, a, b, args, full_output, epsabs, epsrel, limit, points)\u001b[39m\n\u001b[32m    606\u001b[39m         \u001b[38;5;28;01mreturn\u001b[39;00m _quadpack._qagse(func,a,b,args,full_output,epsabs,epsrel,limit)\n\u001b[32m    607\u001b[39m     \u001b[38;5;28;01melse\u001b[39;00m:\n\u001b[32m--> \u001b[39m\u001b[32m608\u001b[39m         \u001b[38;5;28;01mreturn\u001b[39;00m \u001b[43m_quadpack\u001b[49m\u001b[43m.\u001b[49m\u001b[43m_qagie\u001b[49m\u001b[43m(\u001b[49m\u001b[43mfunc\u001b[49m\u001b[43m,\u001b[49m\u001b[43m \u001b[49m\u001b[43mbound\u001b[49m\u001b[43m,\u001b[49m\u001b[43m \u001b[49m\u001b[43minfbounds\u001b[49m\u001b[43m,\u001b[49m\u001b[43m \u001b[49m\u001b[43margs\u001b[49m\u001b[43m,\u001b[49m\u001b[43m \u001b[49m\u001b[43mfull_output\u001b[49m\u001b[43m,\u001b[49m\u001b[43m \u001b[49m\n\u001b[32m    609\u001b[39m \u001b[43m                                \u001b[49m\u001b[43mepsabs\u001b[49m\u001b[43m,\u001b[49m\u001b[43m \u001b[49m\u001b[43mepsrel\u001b[49m\u001b[43m,\u001b[49m\u001b[43m \u001b[49m\u001b[43mlimit\u001b[49m\u001b[43m)\u001b[49m\n\u001b[32m    610\u001b[39m \u001b[38;5;28;01melse\u001b[39;00m:\n\u001b[32m    611\u001b[39m     \u001b[38;5;28;01mif\u001b[39;00m infbounds != \u001b[32m0\u001b[39m:\n",
      "\u001b[36mCell\u001b[39m\u001b[36m \u001b[39m\u001b[32mIn[30]\u001b[39m\u001b[32m, line 26\u001b[39m, in \u001b[36mCalc_L02_Bar_rho\u001b[39m\u001b[34m(s, l, b)\u001b[39m\n\u001b[32m     23\u001b[39m Cpar  = \u001b[32m3.2\u001b[39m \u001b[38;5;66;03m#edge on param\u001b[39;00m\n\u001b[32m     24\u001b[39m \u001b[38;5;66;03m#Rperp = ((np.abs(x)/ax)**Cperp + (np.abs(y)/ay)**Cperp)**(1.0/Cperp)\u001b[39;00m\n\u001b[32m     25\u001b[39m \u001b[38;5;66;03m#Rs    = (Rperp**Cpar + (np.abs(z)/az)**Cpar)**(1.0/Cpar)\u001b[39;00m\n\u001b[32m---> \u001b[39m\u001b[32m26\u001b[39m Rs    = (np.abs(x)/ax)**Cperp + (\u001b[43mnp\u001b[49m\u001b[43m.\u001b[49m\u001b[43mabs\u001b[49m\u001b[43m(\u001b[49m\u001b[43my\u001b[49m\u001b[43m)\u001b[49m/ay)**Cperp + (np.abs(z)/az)**Cpar\n\u001b[32m     27\u001b[39m rho   = np.exp(-Rs) \u001b[38;5;66;03m## volume emissivity\u001b[39;00m\n\u001b[32m     29\u001b[39m \u001b[38;5;28;01mreturn\u001b[39;00m rho\n",
      "\u001b[31mKeyboardInterrupt\u001b[39m: "
     ]
    }
   ],
   "source": [
    "################################################\n",
    "# Loop through the shape of the star count image \n",
    "# calculate densities for the Galactic Bulge and \n",
    "# NSD, then add them together\n",
    "################################################\n",
    "\n",
    "N_GB = np.zeros(shape=np.shape(N))\n",
    "N_NSD = np.zeros(shape=np.shape(N))\n",
    "\n",
    "for i in range(Nl):\n",
    "    for j in range(Nb):\n",
    "        I = integrate.quad(Calc_L02_Bar_rho, 0, np.inf, args=(l[i][j],b[i][j]))\n",
    "        N0 = 9.90 #stars arcmin-2\n",
    "        star_rho = 2*N0*I[0] ## convert to brightness, and then multiply by a stellar density factor (See Gallego-Cano 2020 eq. 2)\n",
    "\n",
    "        N_GB[i][j] = star_rho\n",
    "        \n",
    "        nsd = NSD_GC20(l[i][j],b[i][j])\n",
    "        N_NSD[i][j] = nsd\n",
    "        \n",
    "NN = N_NSD + N_GB"
   ]
  },
  {
   "cell_type": "code",
   "execution_count": null,
   "id": "17bef84e",
   "metadata": {},
   "outputs": [
    {
     "data": {
      "text/plain": [
       "(67.74836717571068,\n",
       " 12.781331794006148,\n",
       " 80.52969896971683,\n",
       " (0.18912860269381843, 9.164188541819986e-09))"
      ]
     },
     "execution_count": 10,
     "metadata": {},
     "output_type": "execute_result"
    }
   ],
   "source": [
    "N_NSD.max(), N_GB.max(), NN.max(),I"
   ]
  },
  {
   "cell_type": "code",
   "execution_count": null,
   "id": "6721eb7f",
   "metadata": {},
   "outputs": [
    {
     "ename": "NameError",
     "evalue": "name 'N_GB' is not defined",
     "output_type": "error",
     "traceback": [
      "\u001b[31m---------------------------------------------------------------------------\u001b[39m",
      "\u001b[31mNameError\u001b[39m                                 Traceback (most recent call last)",
      "\u001b[36mCell\u001b[39m\u001b[36m \u001b[39m\u001b[32mIn[10]\u001b[39m\u001b[32m, line 11\u001b[39m\n\u001b[32m      8\u001b[39m xlim = [\u001b[32m2\u001b[39m,-\u001b[32m1\u001b[39m]\n\u001b[32m      9\u001b[39m ylim = [-\u001b[32m0.3\u001b[39m,\u001b[32m0.3\u001b[39m]\n\u001b[32m---> \u001b[39m\u001b[32m11\u001b[39m IM1 = ax.imshow(\u001b[43mN_GB\u001b[49m.T,cmap=cmap,vmin=\u001b[32m10\u001b[39m, vmax=\u001b[32m12\u001b[39m,origin=\u001b[33m'\u001b[39m\u001b[33mlower\u001b[39m\u001b[33m'\u001b[39m,extent=extent)\n\u001b[32m     12\u001b[39m ax.set_xlabel(\u001b[33m'\u001b[39m\u001b[33ml [deg]\u001b[39m\u001b[33m'\u001b[39m,fontsize=\u001b[32m22\u001b[39m)\n\u001b[32m     13\u001b[39m ax.set_ylabel(\u001b[33m'\u001b[39m\u001b[33mb [deg]\u001b[39m\u001b[33m'\u001b[39m,fontsize=\u001b[32m22\u001b[39m)\n",
      "\u001b[31mNameError\u001b[39m: name 'N_GB' is not defined"
     ]
    },
    {
     "data": {
      "image/png": "[encoded data removed]",
      "text/plain": [
       "<Figure size 1000x500 with 1 Axes>"
      ]
     },
     "metadata": {},
     "output_type": "display_data"
    }
   ],
   "source": [
    "# plot GB model only\n",
    "fig, ax = pl.subplots(nrows=1, ncols=1, figsize=(10, 5))\n",
    "\n",
    "#levels  = np.linspace(0,20,101)\n",
    "#norm    = mc.BoundaryNorm(levels, 256)\n",
    "cmap    = 'copper'\n",
    "extent  = [l.max(),l.min(),b.max(),b.min()]\n",
    "xlim = [2,-1]\n",
    "ylim = [-0.3,0.3]\n",
    "\n",
    "IM1 = ax.imshow(N_GB.T,cmap=cmap,vmin=10, vmax=12,origin='lower',extent=extent)\n",
    "ax.set_xlabel('l [deg]',fontsize=22)\n",
    "ax.set_ylabel('b [deg]',fontsize=22)\n",
    "ax.set_xlim(xlim)\n",
    "ax.set_ylim(ylim)\n",
    "ax.grid()\n",
    "ax.tick_params(labelsize=18) \n",
    "ax.scatter(-0.056, -0.046, marker = \"*\", s=35, color='white')\n",
    "\n",
    "\n",
    "\n",
    "cax = fig.add_axes([0.12, .88, 0.78, 0.06])\n",
    "cb = fig.colorbar(IM1,\n",
    "    cax=cax,\n",
    "    spacing='proportional',\n",
    "    orientation='horizontal',\n",
    "    location='bottom'\n",
    "\n",
    ")\n",
    "cb.ax.tick_params(labelsize=14)  # set your label size here"
   ]
  },
  {
   "cell_type": "code",
   "execution_count": null,
   "id": "862e3a60",
   "metadata": {},
   "outputs": [
    {
     "ename": "NameError",
     "evalue": "name 'NN' is not defined",
     "output_type": "error",
     "traceback": [
      "\u001b[31m---------------------------------------------------------------------------\u001b[39m",
      "\u001b[31mNameError\u001b[39m                                 Traceback (most recent call last)",
      "\u001b[36mCell\u001b[39m\u001b[36m \u001b[39m\u001b[32mIn[11]\u001b[39m\u001b[32m, line 25\u001b[39m\n\u001b[32m     20\u001b[39m ax[\u001b[32m0\u001b[39m].scatter(\u001b[32m0.255\u001b[39m, -\u001b[32m0.02\u001b[39m, marker = \u001b[33m\"\u001b[39m\u001b[33ms\u001b[39m\u001b[33m\"\u001b[39m, s=\u001b[32m35\u001b[39m, color=\u001b[33m'\u001b[39m\u001b[33mk\u001b[39m\u001b[33m'\u001b[39m)\n\u001b[32m     24\u001b[39m \u001b[38;5;66;03m#plot the density profile\u001b[39;00m\n\u001b[32m---> \u001b[39m\u001b[32m25\u001b[39m IM1 = ax[\u001b[32m1\u001b[39m].imshow(\u001b[43mNN\u001b[49m.T,norm=norm,cmap=cmap,origin=\u001b[33m'\u001b[39m\u001b[33mlower\u001b[39m\u001b[33m'\u001b[39m,extent=extent)\n\u001b[32m     26\u001b[39m ax[\u001b[32m1\u001b[39m].set_xlabel(\u001b[33m'\u001b[39m\u001b[33ml [deg]\u001b[39m\u001b[33m'\u001b[39m,fontsize=\u001b[32m22\u001b[39m)\n\u001b[32m     27\u001b[39m ax[\u001b[32m1\u001b[39m].set_ylabel(\u001b[33m'\u001b[39m\u001b[33mb [deg]\u001b[39m\u001b[33m'\u001b[39m,fontsize=\u001b[32m22\u001b[39m)\n",
      "\u001b[31mNameError\u001b[39m: name 'NN' is not defined"
     ]
    },
    {
     "data": {
      "image/png": "[encoded data removed]",
      "text/plain": [
       "<Figure size 2000x500 with 2 Axes>"
      ]
     },
     "metadata": {},
     "output_type": "display_data"
    }
   ],
   "source": [
    "# plot number of stars in each bin\n",
    "fig, ax = pl.subplots(nrows=1, ncols=2, figsize=(20, 5))\n",
    "\n",
    "levels  = np.linspace(0,100,101)\n",
    "norm    = mc.BoundaryNorm(levels, 256)\n",
    "cmap    = 'jet'\n",
    "extent  = [l.max(),l.min(),b.max(),b.min()]\n",
    "xlim = [2,-1]\n",
    "ylim = [-0.3,0.3]\n",
    "\n",
    "IM0 = ax[0].imshow(N.T,norm=norm,cmap=cmap,origin='lower',extent=extent)\n",
    "ax[0].set_xlabel('l [deg]',fontsize=22)\n",
    "ax[0].set_ylabel('b [deg]',fontsize=22)\n",
    "ax[0].set_aspect('equal')\n",
    "ax[0].set_xlim(xlim)\n",
    "ax[0].set_ylim(ylim)\n",
    "ax[0].grid()\n",
    "ax[0].tick_params(labelsize=18) \n",
    "ax[0].scatter(-0.056, -0.046, marker = \"*\", s=35, color='white')\n",
    "ax[0].scatter(0.255, -0.02, marker = \"s\", s=35, color='k')\n",
    "\n",
    "\n",
    "\n",
    "#plot the density profile\n",
    "IM1 = ax[1].imshow(NN.T,norm=norm,cmap=cmap,origin='lower',extent=extent)\n",
    "ax[1].set_xlabel('l [deg]',fontsize=22)\n",
    "ax[1].set_ylabel('b [deg]',fontsize=22)\n",
    "ax[1].set_xlim(xlim)\n",
    "ax[1].set_ylim(ylim)\n",
    "ax[1].grid()\n",
    "ax[1].tick_params(labelsize=18) \n",
    "ax[1].scatter(-0.056, -0.046, marker = \"*\", s=35, color='white')\n",
    "\n",
    "cax = fig.add_axes([0.12, .74, 0.78, 0.06])\n",
    "cb = fig.colorbar(\n",
    "    mpl.cm.ScalarMappable(cmap=cmap, norm=norm),\n",
    "    cax=cax,\n",
    "    spacing='proportional',\n",
    "    orientation='horizontal',\n",
    "    location='bottom'\n",
    "\n",
    ")\n",
    "cb.ax.tick_params(labelsize=14)  # set your label size here\n",
    "\n",
    "\n",
    "\n",
    "cb.ax.set_title(r'number of stars/arcmin$^{2}$',fontsize=22)\n",
    "\n",
    "#plt.savefig('../paper_items/Figs/GC2020_counts_density_comparison.pdf', bbox_inches='tight')\n",
    "\n"
   ]
  },
  {
   "cell_type": "code",
   "execution_count": 13,
   "id": "3ee95713",
   "metadata": {},
   "outputs": [
    {
     "ename": "NameError",
     "evalue": "name 'CENTLPIX' is not defined",
     "output_type": "error",
     "traceback": [
      "\u001b[0;31m---------------------------------------------------------------------------\u001b[0m",
      "\u001b[0;31mNameError\u001b[0m                                 Traceback (most recent call last)",
      "\u001b[0;32m/var/folders/4b/_cshhy012yj8k_187jxt881r0000gn/T/ipykernel_64356/1532017728.py\u001b[0m in \u001b[0;36m<module>\u001b[0;34m\u001b[0m\n\u001b[0;32m----> 1\u001b[0;31m \u001b[0mCENTLPIX\u001b[0m\u001b[0;34m,\u001b[0m \u001b[0mCENTBPIX\u001b[0m\u001b[0;34m\u001b[0m\u001b[0;34m\u001b[0m\u001b[0m\n\u001b[0m",
      "\u001b[0;31mNameError\u001b[0m: name 'CENTLPIX' is not defined"
     ]
    }
   ],
   "source": [
    "CENTLPIX, CENTBPIX"
   ]
  },
  {
   "cell_type": "code",
   "execution_count": null,
   "id": "8ba2b1e9",
   "metadata": {},
   "outputs": [],
   "source": [
    "l[209][0], l[CENTLPIX][0]"
   ]
  },
  {
   "cell_type": "code",
   "execution_count": 14,
   "id": "06ad80f6",
   "metadata": {},
   "outputs": [],
   "source": [
    "###SAVE THE PLOTS AS FITS###\n",
    "#model_peak_ind = np.where(NN == NN.max())\n",
    "#CRPIX1, CRPIX2 = model_peak_ind[0][0], model_peak_ind[1][0] \n",
    "bb = np.flip(b)\n",
    "CDELT1 = l[::,0][0] - l[::,0][1] \n",
    "CDELT2 = b[0][0] - b[0][1]\n",
    "\n",
    "CENTLVAL = l[(l>=-0.057) & (l<-0.04) & (bb>=-0.047) & (bb<-0.03)][0]\n",
    "CENTBVAL = bb[(l>=-0.057) & (l<-0.04) & (bb>=-0.047) & (bb<-0.03)][0]\n",
    "CENTLPIX = np.where(l==CENTLVAL)[0][0] + 1 # 0th index in wcs is counted as pixel #1\n",
    "CENTBPIX = np.where(bb==CENTBVAL)[1][0] + 1 # 0th index in wcs is counted as pixel #1\n",
    "\n",
    "\n",
    "\n",
    "########################\n",
    "### NISHIYAMA COUNTS ###\n",
    "########################\n",
    "\n",
    "nishiyama_data = np.flip(N.T,0)\n",
    "hdu_nishiyama = pyfits.PrimaryHDU(data=nishiyama_data)\n",
    "counts_header = hdu_nishiyama.header\n",
    "counts_header.set('ctype1',\"GLON-TAN\")\n",
    "counts_header.set('crval1', CENTLVAL)\n",
    "counts_header.set('cdelt1', -CDELT1 )\n",
    "counts_header.set('crpix1', CENTLPIX)\n",
    "counts_header.set('cunit1',\"deg\" )\n",
    "\n",
    "counts_header.set('ctype2',\"GLAT-TAN\")\n",
    "counts_header.set('crval2',  CENTBVAL)\n",
    "counts_header.set('cdelt2', CDELT2)\n",
    "counts_header.set('crpix2', CENTBPIX)\n",
    "counts_header.set('cunit2', \"deg\")\n",
    "\n",
    "pyfits.writeto('./FITS/nishiyama_counts.fits', nishiyama_data, counts_header, overwrite=True)\n",
    "\n",
    "\n",
    "\n",
    "##############################\n",
    "### NISHIYAMA COUNT ERRORS ###\n",
    "##############################\n",
    "\n",
    "nishiyama_error = np.flip(N_error.T,0)\n",
    "hdu_nishiyama = pyfits.PrimaryHDU(data=nishiyama_error)\n",
    "counts_header = hdu_nishiyama.header\n",
    "counts_header.set('ctype1',\"GLON-TAN\")\n",
    "counts_header.set('crval1', CENTLVAL)\n",
    "counts_header.set('cdelt1', -CDELT1 )\n",
    "counts_header.set('crpix1', CENTLPIX)\n",
    "counts_header.set('cunit1',\"deg\" )\n",
    "\n",
    "counts_header.set('ctype2',\"GLAT-TAN\")\n",
    "counts_header.set('crval2',  CENTBVAL)\n",
    "counts_header.set('cdelt2', CDELT2)\n",
    "counts_header.set('crpix2', CENTBPIX)\n",
    "counts_header.set('cunit2', \"deg\")\n",
    "\n",
    "pyfits.writeto('./FITS/nishiyama_error.fits', nishiyama_error, counts_header, overwrite=True)\n",
    "\n",
    "\n",
    "\n",
    "####################\n",
    "### MODEL COUNTS ###\n",
    "####################\n",
    "\n",
    "model_data = np.flip(NN.T,0)\n",
    "hdu_model = pyfits.PrimaryHDU(data=model_data)\n",
    "model_header = hdu_model.header\n",
    "model_header.set('ctype1',\"GLON-TAN\")\n",
    "model_header.set('crval1', CENTLVAL)\n",
    "model_header.set('cdelt1', -CDELT1 )\n",
    "model_header.set('crpix1', CENTLPIX)\n",
    "model_header.set('cunit1',\"deg\" )\n",
    "\n",
    "model_header.set('ctype2',\"GLAT-TAN\")\n",
    "model_header.set('crval2',  CENTBVAL)\n",
    "model_header.set('cdelt2', CDELT2)\n",
    "model_header.set('crpix2', CENTBPIX)\n",
    "model_header.set('cunit2', \"deg\")\n",
    "\n",
    "pyfits.writeto('./FITS/model_counts.fits', model_data, model_header, overwrite=True)\n",
    "\n",
    "\n",
    "\n"
   ]
  },
  {
   "cell_type": "code",
   "execution_count": 199,
   "id": "00b77be1",
   "metadata": {},
   "outputs": [
    {
     "data": {
      "text/plain": [
       "(89, 209)"
      ]
     },
     "execution_count": 199,
     "metadata": {},
     "output_type": "execute_result"
    }
   ],
   "source": [
    "CENTBPIX, CENTLPIX"
   ]
  },
  {
   "cell_type": "code",
   "execution_count": null,
   "id": "53b8a3d2",
   "metadata": {},
   "outputs": [],
   "source": []
  }
 ],
 "metadata": {
  "kernelspec": {
   "display_name": "python3_13",
   "language": "python",
   "name": "python3"
  },
  "language_info": {
   "codemirror_mode": {
    "name": "ipython",
    "version": 3
   },
   "file_extension": ".py",
   "mimetype": "text/x-python",
   "name": "python",
   "nbconvert_exporter": "python",
   "pygments_lexer": "ipython3",
   "version": "3.13.2"
  }
 },
 "nbformat": 4,
 "nbformat_minor": 5
}

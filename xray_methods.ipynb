{
 "cells": [
  {
   "cell_type": "code",
   "execution_count": 1,
   "id": "1165df74",
   "metadata": {},
   "outputs": [
    {
     "name": "stderr",
     "output_type": "stream",
     "text": [
      "/opt/anaconda3/lib/python3.9/site-packages/pandas/core/computation/expressions.py:21: UserWarning: Pandas requires version '2.8.4' or newer of 'numexpr' (version '2.8.3' currently installed).\n",
      "  from pandas.core.computation.check import NUMEXPR_INSTALLED\n",
      "/opt/anaconda3/lib/python3.9/site-packages/pandas/core/arrays/masked.py:60: UserWarning: Pandas requires version '1.3.6' or newer of 'bottleneck' (version '1.3.5' currently installed).\n",
      "  from pandas.core import (\n"
     ]
    }
   ],
   "source": [
    "import os\n",
    "import numpy as np\n",
    "import pandas as pd\n",
    "import matplotlib.cm as cm\n",
    "import matplotlib as mpl\n",
    "import matplotlib.pyplot as plt\n",
    "from matplotlib.gridspec import GridSpec\n",
    "from astropy.io import fits\n",
    "import astropy.io.fits as pyfits\n",
    "from astropy.wcs import WCS\n",
    "from astropy.table import Table\n",
    "import matplotlib.pyplot as pl\n",
    "import matplotlib.colors as mc\n",
    "from scipy.interpolate import NearestNDInterpolator\n",
    "from scipy.optimize import curve_fit \n",
    "import scipy.integrate as integrate\n",
    "import scipy.special as special\n",
    "from numpy import linspace, array, logspace, sin, cos, pi, arange, sqrt, arctan2, arccos\n",
    "from mpl_toolkits.mplot3d import Axes3D\n",
    "\n",
    "import emcee\n",
    "\n",
    "\n",
    "\n",
    "\n",
    "\n",
    "\n",
    "from collections import OrderedDict\n"
   ]
  },
  {
   "cell_type": "code",
   "execution_count": 2,
   "id": "440b9c58",
   "metadata": {},
   "outputs": [],
   "source": [
    "#Grab the existing table columns we want \n",
    "cat = Table.read('../3D_CMZ/LBV_plots_stuff/CMZ_cloud_catalogue_data.tex')\n",
    "\n",
    "\n",
    "cat_index = cat['index']\n",
    "cloud_list = cat['cloud_name']\n",
    "\n",
    "###just need this file for the multi-comp clouds\n",
    "large_cat = Table.read('../3D_CMZ/LBV_plots_stuff/CMZ_cloud_catalogue_data_dup.csv')\n",
    "large_cat_index = large_cat['index']\n",
    "large_cat_v = large_cat['v']\n",
    "\n",
    "### For the stddevs, we need to find them for both the single \n",
    "### and multi-component clouds separately \n",
    "### then combine into the table \n",
    "\n",
    "#Find single v component clouds\n",
    "single_v = {x for x in list(cloud_list) if list(cloud_list).count(x) == 1}\n",
    "\n",
    "\n",
    "sing_index =[]\n",
    "for i in range(len(cloud_list)):\n",
    "    if cloud_list[i] in single_v:\n",
    "        sing_index.append(i)\n",
    "        \n",
    "\n",
    "#find indexes with multiple velocities \n",
    "dup = {x for x in list(cloud_list) if list(cloud_list).count(x) > 1}\n",
    "\n",
    "dup_index =[]\n",
    "for i in range(len(cloud_list)):\n",
    "    if cloud_list[i] in dup:\n",
    "        dup_index.append(i)\n",
    "        \n",
    "id_v_list = []\n",
    "for i in range(len(large_cat_index)):\n",
    "    id_v_list.append('{}_{}'.format(large_cat_index[i], large_cat_v[i]))\n",
    "    \n",
    "    \n",
    "mask_files=[]\n",
    "sing_masks_path = '/Users/danilipman/Documents/Research/UConn/3D_CMZ/Cloud_masks/' \n",
    "dup_masks_path = '/Users/danilipman/Documents/Research/UConn/3D_CMZ/Sub_masks/'\n",
    "for i in range(len(cat_index)):\n",
    "    if cat_index[i] in cat_index[sing_index]:\n",
    "        cloud = cloud_list[i]\n",
    "        \n",
    "        if '-' in cloud_list[i]:\n",
    "            filename = sing_masks_path+cloud_list[i] +'/{}_cutout.fits'.format(cloud_list[i].replace(\"-\", \"_\"))\n",
    "        if '+' in cloud_list[i]:\n",
    "            filename = sing_masks_path+cloud_list[i] +'/{}_cutout.fits'.format(cloud_list[i].replace(\"+\", \"_\"))\n",
    "        mask_files.append(filename)\n",
    "        \n",
    "    if cat_index[i] in cat_index[dup_index]:\n",
    "        filename = dup_masks_path+'max/{}_{}_HNCO_cube_max.mask.fits'.format(large_cat_index[i],large_cat_v[i] )\n",
    "        mask_files.append(filename)\n",
    "\n",
    "        \n",
    "\n",
    "    "
   ]
  },
  {
   "cell_type": "markdown",
   "id": "9eb10309",
   "metadata": {},
   "source": [
    "# 3 pigs are IDs 13 (stone), 14 (sticks), and 16b (straw)"
   ]
  },
  {
   "cell_type": "code",
   "execution_count": 50,
   "id": "dcfdce1d",
   "metadata": {},
   "outputs": [],
   "source": [
    "stone_cat_row = cat[np.where(cat_index=='13')]\n",
    "sticks_cat_row = cat[np.where(cat_index=='14')]\n",
    "\n",
    "\n",
    "\n",
    "xray_tab = Table( names = ('cloud_index', 'cloud_name', 'xray_NEAR_los_dist_pc', 'xray_FAR_los_dist_pc', 'uncertainty', 'reference', 'comment'))\n",
    "xray_tab['cloud_index'] = xray_tab['cloud_index'].astype(int)\n",
    "xray_tab['cloud_name'] = xray_tab['cloud_name'].astype(str)\n",
    "xray_tab['reference'] = xray_tab['reference'].astype(str)\n",
    "xray_tab['comment'] = xray_tab['comment'].astype(str)\n",
    "\n",
    "\n",
    "xray_tab.add_row((stone_cat_row['index'], stone_cat_row['cloud_name'], 20, 45, np.nan, 'Clavel+2013', ' '))\n",
    "xray_tab.add_row((sticks_cat_row['index'], sticks_cat_row['cloud_name'], 20, 45, np.nan, 'Clavel+2013', ' '))\n",
    "\n",
    "xray_tab.add_row((sticks_cat_row['index'], stone_cat_row['cloud_name'], np.nan, 25, np.nan, 'Marin+2023', ' '))\n",
    "\n",
    "\n",
    "\n",
    "xray_tab.write(\"/Users/danilipman/Documents/Research/UConn/CMZ_SYNTH/xray_methods.tex\", overwrite=True)\n",
    "\n",
    "\n"
   ]
  },
  {
   "cell_type": "code",
   "execution_count": 48,
   "id": "cc24f2b4",
   "metadata": {},
   "outputs": [
    {
     "data": {
      "text/html": [
       "<div><i>Table length=3</i>\n",
       "<table id=\"table140420659599008\" class=\"table-striped table-bordered table-condensed\">\n",
       "<thead><tr><th>cloud_index</th><th>cloud_name</th><th>xray_NEAR_los_dist_pc</th><th>xray_FAR_los_dist_pc</th><th>uncertainty</th><th>reference</th><th>comment</th></tr></thead>\n",
       "<thead><tr><th>int64</th><th>str32</th><th>float64</th><th>float64</th><th>float64</th><th>str32</th><th>str32</th></tr></thead>\n",
       "<tr><td>13</td><td>G0.068-0.076</td><td>20.0</td><td>45.0</td><td>nan</td><td>Clavel+2013</td><td></td></tr>\n",
       "<tr><td>14</td><td>G0.105-0.08</td><td>20.0</td><td>45.0</td><td>nan</td><td>Clavel+2013</td><td></td></tr>\n",
       "<tr><td>14</td><td>G0.068-0.076</td><td>nan</td><td>25.0</td><td>nan</td><td>Marin+2023</td><td></td></tr>\n",
       "</table></div>"
      ],
      "text/plain": [
       "<Table length=3>\n",
       "cloud_index  cloud_name  xray_NEAR_los_dist_pc xray_FAR_los_dist_pc uncertainty  reference  comment\n",
       "   int64       str32            float64              float64          float64      str32     str32 \n",
       "----------- ------------ --------------------- -------------------- ----------- ----------- -------\n",
       "         13 G0.068-0.076                  20.0                 45.0         nan Clavel+2013        \n",
       "         14  G0.105-0.08                  20.0                 45.0         nan Clavel+2013        \n",
       "         14 G0.068-0.076                   nan                 25.0         nan  Marin+2023        "
      ]
     },
     "execution_count": 48,
     "metadata": {},
     "output_type": "execute_result"
    }
   ],
   "source": [
    "xray_tab"
   ]
  },
  {
   "cell_type": "code",
   "execution_count": 32,
   "id": "b903fa7e",
   "metadata": {},
   "outputs": [
    {
     "data": {
      "text/plain": [
       "'13'"
      ]
     },
     "execution_count": 32,
     "metadata": {},
     "output_type": "execute_result"
    }
   ],
   "source": [
    "stone_cat_row['index'][0]"
   ]
  },
  {
   "cell_type": "code",
   "execution_count": null,
   "id": "c1e6c0b0",
   "metadata": {},
   "outputs": [],
   "source": []
  },
  {
   "cell_type": "code",
   "execution_count": null,
   "id": "62eda08d",
   "metadata": {},
   "outputs": [],
   "source": []
  },
  {
   "cell_type": "code",
   "execution_count": null,
   "id": "9e0fc658",
   "metadata": {},
   "outputs": [],
   "source": []
  }
 ],
 "metadata": {
  "kernelspec": {
   "display_name": "Python 3 (ipykernel)",
   "language": "python",
   "name": "python3"
  },
  "language_info": {
   "codemirror_mode": {
    "name": "ipython",
    "version": 3
   },
   "file_extension": ".py",
   "mimetype": "text/x-python",
   "name": "python",
   "nbconvert_exporter": "python",
   "pygments_lexer": "ipython3",
   "version": "3.9.13"
  }
 },
 "nbformat": 4,
 "nbformat_minor": 5
}
